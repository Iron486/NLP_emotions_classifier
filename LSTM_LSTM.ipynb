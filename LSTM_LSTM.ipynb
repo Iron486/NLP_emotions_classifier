{
  "cells": [
    {
      "cell_type": "markdown",
      "metadata": {
        "id": "view-in-github",
        "colab_type": "text"
      },
      "source": [
        "<a href=\"https://colab.research.google.com/github/Iron486/NLP_emotions_classifier/blob/main/LSTM_LSTM.ipynb\" target=\"_parent\"><img src=\"https://colab.research.google.com/assets/colab-badge.svg\" alt=\"Open In Colab\"/></a>"
      ]
    },
    {
      "cell_type": "markdown",
      "metadata": {
        "id": "KuMWoh4eXWWf"
      },
      "source": [
        "### <font color='violet'>Import libraries</font>"
      ],
      "id": "KuMWoh4eXWWf"
    },
    {
      "cell_type": "code",
      "execution_count": null,
      "metadata": {
        "id": "0529e0da"
      },
      "outputs": [],
      "source": [
        "import os\n",
        "import numpy as np\n",
        "import pandas as pd\n",
        "import tensorflow as tf\n",
        "from tensorflow import keras\n",
        "from sklearn.preprocessing import OneHotEncoder\n",
        "from sklearn.preprocessing import StandardScaler\n",
        "from tensorflow.keras import layers\n",
        "from sklearn.decomposition import PCA\n",
        "import matplotlib.pyplot as plt\n",
        "import matplotlib.image as mpimg\n",
        "import seaborn as sns\n",
        "import statistics\n",
        "from numpy import array\n",
        "from numpy import asarray\n",
        "from numpy import zeros\n",
        "from keras.preprocessing.text import Tokenizer\n",
        "from keras.preprocessing.sequence import pad_sequences\n",
        "from sklearn.preprocessing import LabelEncoder\n",
        "from tensorflow.keras import layers\n",
        "import tensorflow as tf\n",
        "from tensorflow import keras"
      ],
      "id": "0529e0da"
    },
    {
      "cell_type": "markdown",
      "metadata": {
        "id": "TLrPmi0UXx_f"
      },
      "source": [
        "### <font color='violet'>Load the preprocessed GloVe embeddings</font>"
      ],
      "id": "TLrPmi0UXx_f"
    },
    {
      "cell_type": "code",
      "execution_count": null,
      "metadata": {
        "colab": {
          "base_uri": "https://localhost:8080/"
        },
        "id": "zOBa6jO7QMXE",
        "outputId": "6b4ae30b-0dff-4ee4-bc34-e3e9df621099"
      },
      "outputs": [
        {
          "output_type": "stream",
          "name": "stdout",
          "text": [
            "Mounted at /content/drive\n"
          ]
        }
      ],
      "source": [
        "from google.colab import drive\n",
        "drive.mount('/content/drive')"
      ],
      "id": "zOBa6jO7QMXE"
    },
    {
      "cell_type": "code",
      "execution_count": null,
      "metadata": {
        "id": "6mInfaBlDR_g"
      },
      "outputs": [],
      "source": [
        "import pickle\n",
        "filename = 'drive/My Drive/Colab Notebooks/NLP_emotions_dataset/Untitled Folder 1/emotions_dataset/embeddings_index.sav'\n",
        "embeddings_index = pickle.load(open(filename, 'rb'))"
      ],
      "id": "6mInfaBlDR_g"
    },
    {
      "cell_type": "markdown",
      "metadata": {
        "id": "O2S6U03yX5eN"
      },
      "source": [
        "### <font color='violet'>Import datasets and preprocess the datasets</font>"
      ],
      "id": "O2S6U03yX5eN"
    },
    {
      "cell_type": "code",
      "execution_count": null,
      "metadata": {
        "id": "4710c931"
      },
      "outputs": [],
      "source": [
        "\n",
        "max_length = 58\n",
        "f = open('drive/My Drive/Colab Notebooks/NLP_emotions_dataset/Untitled Folder 1/emotions_dataset/train.txt')\n",
        "g=open('drive/My Drive/Colab Notebooks/NLP_emotions_dataset/Untitled Folder 1/emotions_dataset/val.txt')\n",
        "h=open('drive/My Drive/Colab Notebooks/NLP_emotions_dataset/Untitled Folder 1/emotions_dataset/test.txt')\n",
        "\n",
        "\n",
        "lb = LabelEncoder()\n",
        "t = Tokenizer() \n",
        "words_train =[]\n",
        "labels=[]\n",
        "for line in f:\n",
        "    values =line.rsplit(\";\", maxsplit=1)\n",
        "    sentence = values[0].split()\n",
        "    label=values[1]#removesuffix('\\n')\n",
        "    word = sentence[:-1]\n",
        "    words_train.append(word)\n",
        "    labels.append(label)\n",
        "f.close()  \n",
        "\n",
        "t.fit_on_texts(words_train)\n",
        "encoded_docs_train = t.texts_to_sequences(words_train)\n",
        "padded_docs_train = pad_sequences(encoded_docs_train, maxlen=max_length, padding='post')\n",
        "\n",
        "\n",
        "labels_train=lb.fit(labels)\n",
        "labels_train=lb.transform(labels)\n",
        "\n",
        "\n",
        "vocab_size = len(t.word_index) + 1\n",
        "embedding_matrix_train = zeros((vocab_size, 100))\n",
        "for word, i in t.word_index.items():\n",
        "    embedding_vector = embeddings_index.get(word)\n",
        "    if embedding_vector is not None:\n",
        "        embedding_matrix_train[i] = embedding_vector\n",
        "\n",
        "def Preprocessing(file,embeddings_index):\n",
        "    words =[]\n",
        "    labels=[]\n",
        "    for line in file:\n",
        "        values =line.rsplit(\";\", maxsplit=1)\n",
        "        sentence = values[0].split()\n",
        "        label=values[1]#.removesuffix('\\n')\n",
        "        word = sentence[:-1]\n",
        "        words.append(word)\n",
        "        labels.append(label)\n",
        "    file.close()  \n",
        "    # integer encode the documents\n",
        "    encoded_docs = t.texts_to_sequences(words)\n",
        "    #print(encoded_docs)\n",
        "    # pad documents to a max length of8 words\n",
        "    \n",
        "    padded_docs = pad_sequences(encoded_docs, maxlen=max_length, padding='post')\n",
        "    \n",
        "    labels=lb.transform(labels)\n",
        "    \n",
        "    embedding_matrix = zeros((vocab_size, 100))\n",
        "    for word, i in t.word_index.items():\n",
        "        embedding_vector = embeddings_index.get(word)\n",
        "        if embedding_vector is not None:\n",
        "            embedding_matrix[i] = embedding_vector\n",
        "\n",
        "    \n",
        "    \n",
        "    return padded_docs, encoded_docs, embedding_matrix,words,labels\n",
        "\n",
        "#padded_docs_train, encoded_docs_train,embedding_matrix_train,words_train,labels_train=Preprocessing(f,embeddings_index)\n",
        "padded_docs_val, encoded_docs_val,embedding_matrix_val,words_val,labels_val=Preprocessing(g,embeddings_index)\n",
        "padded_docs_test, encoded_docs_test,embedding_matrix_test,words_test,labels_test=Preprocessing(h,embeddings_index)"
      ],
      "id": "4710c931"
    },
    {
      "cell_type": "code",
      "execution_count": null,
      "metadata": {
        "colab": {
          "base_uri": "https://localhost:8080/"
        },
        "id": "7e7a60ff",
        "outputId": "9853fca9-f598-49b4-b7d8-a60161e15253"
      },
      "outputs": [
        {
          "output_type": "execute_result",
          "data": {
            "text/plain": [
              "{'anger\\n', 'fear\\n', 'joy\\n', 'love\\n', 'sadness\\n', 'surprise\\n'}"
            ]
          },
          "metadata": {},
          "execution_count": 6
        }
      ],
      "source": [
        "len(padded_docs_train[3333])\n",
        "set(labels)"
      ],
      "id": "7e7a60ff"
    },
    {
      "cell_type": "markdown",
      "metadata": {
        "id": "qheaw4F0XEM3"
      },
      "source": [
        "### <font color='violet'>Train the model</font>"
      ],
      "id": "qheaw4F0XEM3"
    },
    {
      "cell_type": "code",
      "execution_count": null,
      "metadata": {
        "colab": {
          "base_uri": "https://localhost:8080/"
        },
        "id": "8e3cdc07",
        "outputId": "3903f439-1c87-43df-cf06-998cd4db21ab"
      },
      "outputs": [
        {
          "output_type": "stream",
          "name": "stdout",
          "text": [
            "Model: \"sequential_1\"\n",
            "_________________________________________________________________\n",
            " Layer (type)                Output Shape              Param #   \n",
            "=================================================================\n",
            " embedding_1 (Embedding)     (None, 58, 100)           1418500   \n",
            "                                                                 \n",
            " dropout_3 (Dropout)         (None, 58, 100)           0         \n",
            "                                                                 \n",
            " lstm_2 (LSTM)               (None, 58, 70)            47880     \n",
            "                                                                 \n",
            " lstm_3 (LSTM)               (None, 55)                27720     \n",
            "                                                                 \n",
            " dropout_4 (Dropout)         (None, 55)                0         \n",
            "                                                                 \n",
            " dense_3 (Dense)             (None, 50)                2800      \n",
            "                                                                 \n",
            " dropout_5 (Dropout)         (None, 50)                0         \n",
            "                                                                 \n",
            " dense_4 (Dense)             (None, 20)                1020      \n",
            "                                                                 \n",
            " dense_5 (Dense)             (None, 6)                 126       \n",
            "                                                                 \n",
            "=================================================================\n",
            "Total params: 1,498,046\n",
            "Trainable params: 79,546\n",
            "Non-trainable params: 1,418,500\n",
            "_________________________________________________________________\n",
            "None\n",
            "Epoch 1/70\n",
            "800/800 [==============================] - 53s 62ms/step - loss: 1.5717 - accuracy: 0.3417 - val_loss: 1.4389 - val_accuracy: 0.4560\n",
            "Epoch 2/70\n",
            "800/800 [==============================] - 47s 59ms/step - loss: 1.3656 - accuracy: 0.4787 - val_loss: 1.2457 - val_accuracy: 0.5180\n",
            "Epoch 3/70\n",
            "800/800 [==============================] - 48s 60ms/step - loss: 1.2577 - accuracy: 0.5208 - val_loss: 1.2088 - val_accuracy: 0.5435\n",
            "Epoch 4/70\n",
            "800/800 [==============================] - 48s 60ms/step - loss: 1.1493 - accuracy: 0.5852 - val_loss: 1.0207 - val_accuracy: 0.6270\n",
            "Epoch 5/70\n",
            "800/800 [==============================] - 48s 60ms/step - loss: 1.0445 - accuracy: 0.6209 - val_loss: 0.9538 - val_accuracy: 0.6570\n",
            "Epoch 6/70\n",
            "800/800 [==============================] - 48s 60ms/step - loss: 0.9492 - accuracy: 0.6597 - val_loss: 0.8852 - val_accuracy: 0.6815\n",
            "Epoch 7/70\n",
            "800/800 [==============================] - 48s 60ms/step - loss: 0.8573 - accuracy: 0.6871 - val_loss: 0.8648 - val_accuracy: 0.6985\n",
            "Epoch 8/70\n",
            "800/800 [==============================] - 48s 60ms/step - loss: 0.7836 - accuracy: 0.7117 - val_loss: 0.7430 - val_accuracy: 0.7330\n",
            "Epoch 9/70\n",
            "800/800 [==============================] - 48s 60ms/step - loss: 0.7355 - accuracy: 0.7298 - val_loss: 0.6717 - val_accuracy: 0.7520\n",
            "Epoch 10/70\n",
            "800/800 [==============================] - 48s 60ms/step - loss: 0.6720 - accuracy: 0.7563 - val_loss: 0.6539 - val_accuracy: 0.7735\n",
            "Epoch 11/70\n",
            "800/800 [==============================] - 49s 61ms/step - loss: 0.6296 - accuracy: 0.7702 - val_loss: 0.5681 - val_accuracy: 0.7980\n",
            "Epoch 12/70\n",
            "800/800 [==============================] - 48s 60ms/step - loss: 0.5943 - accuracy: 0.7800 - val_loss: 0.5853 - val_accuracy: 0.7915\n",
            "Epoch 13/70\n",
            "800/800 [==============================] - 48s 60ms/step - loss: 0.5632 - accuracy: 0.7929 - val_loss: 0.5674 - val_accuracy: 0.7995\n",
            "Epoch 14/70\n",
            "800/800 [==============================] - 50s 62ms/step - loss: 0.5495 - accuracy: 0.7968 - val_loss: 0.5219 - val_accuracy: 0.8090\n",
            "Epoch 15/70\n",
            "800/800 [==============================] - 49s 61ms/step - loss: 0.5219 - accuracy: 0.8052 - val_loss: 0.5084 - val_accuracy: 0.8040\n",
            "Epoch 16/70\n",
            "800/800 [==============================] - 49s 61ms/step - loss: 0.5026 - accuracy: 0.8104 - val_loss: 0.5004 - val_accuracy: 0.8145\n",
            "Epoch 17/70\n",
            "800/800 [==============================] - 49s 61ms/step - loss: 0.4925 - accuracy: 0.8158 - val_loss: 0.4911 - val_accuracy: 0.8195\n",
            "Epoch 18/70\n",
            "800/800 [==============================] - 49s 61ms/step - loss: 0.4703 - accuracy: 0.8230 - val_loss: 0.4803 - val_accuracy: 0.8190\n",
            "Epoch 19/70\n",
            "800/800 [==============================] - 48s 60ms/step - loss: 0.4669 - accuracy: 0.8244 - val_loss: 0.4731 - val_accuracy: 0.8235\n",
            "Epoch 20/70\n",
            "800/800 [==============================] - 48s 61ms/step - loss: 0.4497 - accuracy: 0.8289 - val_loss: 0.4800 - val_accuracy: 0.8170\n",
            "Epoch 21/70\n",
            "800/800 [==============================] - 48s 60ms/step - loss: 0.4371 - accuracy: 0.8339 - val_loss: 0.4783 - val_accuracy: 0.8185\n",
            "Epoch 22/70\n",
            "800/800 [==============================] - 49s 61ms/step - loss: 0.4274 - accuracy: 0.8355 - val_loss: 0.4574 - val_accuracy: 0.8265\n",
            "Epoch 23/70\n",
            "800/800 [==============================] - 49s 61ms/step - loss: 0.4204 - accuracy: 0.8386 - val_loss: 0.4555 - val_accuracy: 0.8275\n",
            "Epoch 24/70\n",
            "800/800 [==============================] - 49s 61ms/step - loss: 0.4076 - accuracy: 0.8432 - val_loss: 0.4713 - val_accuracy: 0.8235\n",
            "Epoch 25/70\n",
            "800/800 [==============================] - 48s 60ms/step - loss: 0.4075 - accuracy: 0.8424 - val_loss: 0.4615 - val_accuracy: 0.8245\n",
            "Epoch 26/70\n",
            "800/800 [==============================] - 48s 61ms/step - loss: 0.3970 - accuracy: 0.8478 - val_loss: 0.5027 - val_accuracy: 0.8295\n",
            "Epoch 27/70\n",
            "800/800 [==============================] - 49s 61ms/step - loss: 0.3945 - accuracy: 0.8494 - val_loss: 0.4503 - val_accuracy: 0.8320\n",
            "Epoch 28/70\n",
            "800/800 [==============================] - 48s 60ms/step - loss: 0.3840 - accuracy: 0.8514 - val_loss: 0.4355 - val_accuracy: 0.8400\n",
            "Epoch 29/70\n",
            "800/800 [==============================] - 49s 61ms/step - loss: 0.3819 - accuracy: 0.8536 - val_loss: 0.4685 - val_accuracy: 0.8260\n",
            "Epoch 30/70\n",
            "800/800 [==============================] - 49s 61ms/step - loss: 0.3693 - accuracy: 0.8579 - val_loss: 0.4401 - val_accuracy: 0.8385\n",
            "Epoch 31/70\n",
            "800/800 [==============================] - 48s 60ms/step - loss: 0.3681 - accuracy: 0.8577 - val_loss: 0.4565 - val_accuracy: 0.8325\n",
            "Epoch 32/70\n",
            "800/800 [==============================] - 49s 61ms/step - loss: 0.3601 - accuracy: 0.8579 - val_loss: 0.4360 - val_accuracy: 0.8295\n",
            "Epoch 33/70\n",
            "800/800 [==============================] - 49s 61ms/step - loss: 0.3604 - accuracy: 0.8584 - val_loss: 0.4416 - val_accuracy: 0.8310\n",
            "Epoch 34/70\n",
            "800/800 [==============================] - 49s 61ms/step - loss: 0.3566 - accuracy: 0.8629 - val_loss: 0.4560 - val_accuracy: 0.8360\n",
            "Epoch 35/70\n",
            "800/800 [==============================] - 49s 61ms/step - loss: 0.3511 - accuracy: 0.8601 - val_loss: 0.4493 - val_accuracy: 0.8315\n",
            "63/63 [==============================] - 3s 25ms/step - loss: 0.4355 - accuracy: 0.8400\n",
            "Accuracy: 83.999997\n"
          ]
        }
      ],
      "source": [
        "\n",
        "tf.random.set_seed(79)\n",
        "opt = keras.optimizers.Adam(learning_rate=0.0004, beta_1=0.9,beta_2=0.999)\n",
        "# define model\n",
        "model = keras.Sequential()\n",
        "#(14185, 100) shape dimension\n",
        "model.add(keras.layers.Embedding(vocab_size, 100, weights=[embedding_matrix_train], input_length=max_length, trainable=False))\n",
        "\n",
        "#model.add(tf.keras.layers.GlobalAveragePooling1D()) #put this if after the conv1d you have a dense layer\n",
        "#tf.expand_dims(embedding_matrix_train.shape,axis=1)\n",
        "model.add(keras.layers.Dropout(rate=0.1))\n",
        "model.add(tf.keras.layers.LSTM(70,input_shape=(embedding_matrix_train.shape[0],embedding_matrix_train.shape[1]),return_sequences=True))\n",
        "model.add(tf.keras.layers.LSTM(55,input_shape=(embedding_matrix_train.shape[0],embedding_matrix_train.shape[1])))\n",
        "#put return_sequences=True if you put the \n",
        "#LSTM layer before Conv1d or before another LSTM layer\n",
        "#model.add(keras.layers.Flatten()) #insert this to pass from MaxPooling to Fully connected neural network without GlobalAveragePooling1d\n",
        "model.add(keras.layers.Dropout(rate=0.1))\n",
        "model.add(keras.layers.Dense(50,activation='elu'\n",
        "                  ,kernel_initializer='GlorotNormal'\n",
        "               #  ,kernel_regularizer=keras.regularizers.l2(0.02)\n",
        "                 ))\n",
        "#model.add(keras.layers.Dropout(rate=0.1))\n",
        "#keras.layers.BatchNormalization(),\n",
        "#model.add(keras.layers.Dense(40,activation='elu'\n",
        "                #  ,kernel_initializer='GlorotNormal'\n",
        "               #  ,kernel_regularizer=keras.regularizers.l2(0.02)\n",
        "               #  ))\n",
        "model.add(keras.layers.Dropout(rate=0.1))\n",
        "#keras.layers.BatchNormalization(),\n",
        "model.add(keras.layers.Dense(20,activation='elu',kernel_initializer='GlorotNormal'\n",
        "#  ,kernel_regularizer=keras.regularizers.l2(0.02)\n",
        "                ))\n",
        "model.add(keras.layers.Dense(6,activation='sigmoid'))\n",
        "# compile the model\n",
        "opt = keras.optimizers.Adam(learning_rate=0.00038, beta_1=0.8,beta_2=0.999)\n",
        "model.compile(optimizer=opt, loss='sparse_categorical_crossentropy', metrics=['accuracy'])\n",
        "# summarize the model\n",
        "print(model.summary())\n",
        "# fit the model\n",
        "early_stopping_cb=keras.callbacks.EarlyStopping(patience=7,restore_best_weights=True)\n",
        "history=model.fit(padded_docs_train, labels_train, epochs=70,validation_data=(padded_docs_val, labels_val),callbacks=[early_stopping_cb],batch_size=20)\n",
        "# evaluate the model\n",
        "loss, accuracy = model.evaluate(padded_docs_val, labels_val)\n",
        "print('Accuracy: %f' % (accuracy*100))"
      ],
      "id": "8e3cdc07"
    },
    {
      "cell_type": "markdown",
      "metadata": {
        "id": "iuMr1qvjYGwl"
      },
      "source": [
        "### <font color='violet'> History plot </font>"
      ],
      "id": "iuMr1qvjYGwl"
    },
    {
      "cell_type": "code",
      "execution_count": null,
      "metadata": {
        "colab": {
          "base_uri": "https://localhost:8080/",
          "height": 324
        },
        "id": "eQmr4TAvOWcH",
        "outputId": "7d2492e1-0be5-44bc-f18c-49c58c1e0337"
      },
      "outputs": [
        {
          "output_type": "display_data",
          "data": {
            "text/plain": [
              "<Figure size 576x360 with 1 Axes>"
            ],
            "image/png": "[encoded data removed]"
          },
          "metadata": {
            "needs_background": "light"
          }
        }
      ],
      "source": [
        "pd.DataFrame(history.history).plot(figsize=(8, 5))\n",
        "plt.grid(True)\n",
        "#plt.gca().set_xlim(0,33)\n",
        "plt.gca().set_ylim(0,1)\n",
        "model.save('_LSTM_LSTM_58.h5')\n",
        "#Accuracy: 0.84"
      ],
      "id": "eQmr4TAvOWcH"
    },
    {
      "cell_type": "markdown",
      "metadata": {
        "id": "wx9sRqqxYKtN"
      },
      "source": [
        "### <font color='violet'>More details about the model</font>"
      ],
      "id": "wx9sRqqxYKtN"
    },
    {
      "cell_type": "code",
      "execution_count": null,
      "metadata": {
        "colab": {
          "base_uri": "https://localhost:8080/"
        },
        "id": "Gv5T_YL0OW5G",
        "outputId": "aefd2fa7-02c4-40c3-b7c6-5d14942a3ddf"
      },
      "outputs": [
        {
          "output_type": "stream",
          "name": "stdout",
          "text": [
            "Model: \"sequential_1\"\n",
            "_________________________________________________________________\n",
            " Layer (type)                Output Shape              Param #   \n",
            "=================================================================\n",
            " embedding_1 (Embedding)     (None, 58, 100)           1418500   \n",
            "                                                                 \n",
            " dropout_3 (Dropout)         (None, 58, 100)           0         \n",
            "                                                                 \n",
            " lstm_2 (LSTM)               (None, 58, 70)            47880     \n",
            "                                                                 \n",
            " lstm_3 (LSTM)               (None, 55)                27720     \n",
            "                                                                 \n",
            " dropout_4 (Dropout)         (None, 55)                0         \n",
            "                                                                 \n",
            " dense_3 (Dense)             (None, 50)                2800      \n",
            "                                                                 \n",
            " dropout_5 (Dropout)         (None, 50)                0         \n",
            "                                                                 \n",
            " dense_4 (Dense)             (None, 20)                1020      \n",
            "                                                                 \n",
            " dense_5 (Dense)             (None, 6)                 126       \n",
            "                                                                 \n",
            "=================================================================\n",
            "Total params: 1,498,046\n",
            "Trainable params: 79,546\n",
            "Non-trainable params: 1,418,500\n",
            "_________________________________________________________________\n",
            "0 <keras.layers.embeddings.Embedding object at 0x7f80d1a0c5d0>\n",
            "   no activation attribute\n",
            "1 <keras.layers.core.dropout.Dropout object at 0x7f80d1e9ba90>\n",
            "   no activation attribute\n",
            "2 <keras.layers.recurrent_v2.LSTM object at 0x7f80d1a1f6d0>\n",
            "     <function tanh at 0x7f80deaebef0>\n",
            "3 <keras.layers.recurrent_v2.LSTM object at 0x7f80d1a28f10>\n",
            "     <function tanh at 0x7f80deaebef0>\n",
            "4 <keras.layers.core.dropout.Dropout object at 0x7f80d1935ed0>\n",
            "   no activation attribute\n",
            "5 <keras.layers.core.dense.Dense object at 0x7f80d192e510>\n",
            "     <function elu at 0x7f80deaeb320>\n",
            "6 <keras.layers.core.dropout.Dropout object at 0x7f80d192e3d0>\n",
            "   no activation attribute\n",
            "7 <keras.layers.core.dense.Dense object at 0x7f80d1876b50>\n",
            "     <function elu at 0x7f80deaeb320>\n",
            "8 <keras.layers.core.dense.Dense object at 0x7f80d189db50>\n",
            "     <function sigmoid at 0x7f80deaef0e0>\n",
            "0   <keras.layers.embeddings.Embedding object at 0x7f80d1a0c5d0>: \n",
            "{'name': 'embedding_1', 'trainable': False, 'batch_input_shape': (None, 58), 'dtype': 'float32', 'input_dim': 14185, 'output_dim': 100, 'embeddings_initializer': {'class_name': 'RandomUniform', 'config': {'minval': -0.05, 'maxval': 0.05, 'seed': None}}, 'embeddings_regularizer': None, 'activity_regularizer': None, 'embeddings_constraint': None, 'mask_zero': False, 'input_length': 58} \n",
            "\n",
            "1   <keras.layers.core.dropout.Dropout object at 0x7f80d1e9ba90>: \n",
            "{'name': 'dropout_3', 'trainable': True, 'dtype': 'float32', 'rate': 0.1, 'noise_shape': None, 'seed': None} \n",
            "\n",
            "2   <keras.layers.recurrent_v2.LSTM object at 0x7f80d1a1f6d0>: \n",
            "{'name': 'lstm_2', 'trainable': True, 'batch_input_shape': (None, 14185, 100), 'dtype': 'float32', 'return_sequences': True, 'return_state': False, 'go_backwards': False, 'stateful': False, 'unroll': False, 'time_major': False, 'units': 70, 'activation': 'tanh', 'recurrent_activation': 'sigmoid', 'use_bias': True, 'kernel_initializer': {'class_name': 'GlorotUniform', 'config': {'seed': None}}, 'recurrent_initializer': {'class_name': 'Orthogonal', 'config': {'gain': 1.0, 'seed': None}}, 'bias_initializer': {'class_name': 'Zeros', 'config': {}}, 'unit_forget_bias': True, 'kernel_regularizer': None, 'recurrent_regularizer': None, 'bias_regularizer': None, 'activity_regularizer': None, 'kernel_constraint': None, 'recurrent_constraint': None, 'bias_constraint': None, 'dropout': 0.0, 'recurrent_dropout': 0.0, 'implementation': 2} \n",
            "\n",
            "3   <keras.layers.recurrent_v2.LSTM object at 0x7f80d1a28f10>: \n",
            "{'name': 'lstm_3', 'trainable': True, 'batch_input_shape': (None, 14185, 100), 'dtype': 'float32', 'return_sequences': False, 'return_state': False, 'go_backwards': False, 'stateful': False, 'unroll': False, 'time_major': False, 'units': 55, 'activation': 'tanh', 'recurrent_activation': 'sigmoid', 'use_bias': True, 'kernel_initializer': {'class_name': 'GlorotUniform', 'config': {'seed': None}}, 'recurrent_initializer': {'class_name': 'Orthogonal', 'config': {'gain': 1.0, 'seed': None}}, 'bias_initializer': {'class_name': 'Zeros', 'config': {}}, 'unit_forget_bias': True, 'kernel_regularizer': None, 'recurrent_regularizer': None, 'bias_regularizer': None, 'activity_regularizer': None, 'kernel_constraint': None, 'recurrent_constraint': None, 'bias_constraint': None, 'dropout': 0.0, 'recurrent_dropout': 0.0, 'implementation': 2} \n",
            "\n",
            "4   <keras.layers.core.dropout.Dropout object at 0x7f80d1935ed0>: \n",
            "{'name': 'dropout_4', 'trainable': True, 'dtype': 'float32', 'rate': 0.1, 'noise_shape': None, 'seed': None} \n",
            "\n",
            "5   <keras.layers.core.dense.Dense object at 0x7f80d192e510>: \n",
            "{'name': 'dense_3', 'trainable': True, 'dtype': 'float32', 'units': 50, 'activation': 'elu', 'use_bias': True, 'kernel_initializer': {'class_name': 'GlorotNormal', 'config': {'seed': None}}, 'bias_initializer': {'class_name': 'Zeros', 'config': {}}, 'kernel_regularizer': None, 'bias_regularizer': None, 'activity_regularizer': None, 'kernel_constraint': None, 'bias_constraint': None} \n",
            "\n",
            "6   <keras.layers.core.dropout.Dropout object at 0x7f80d192e3d0>: \n",
            "{'name': 'dropout_5', 'trainable': True, 'dtype': 'float32', 'rate': 0.1, 'noise_shape': None, 'seed': None} \n",
            "\n",
            "7   <keras.layers.core.dense.Dense object at 0x7f80d1876b50>: \n",
            "{'name': 'dense_4', 'trainable': True, 'dtype': 'float32', 'units': 20, 'activation': 'elu', 'use_bias': True, 'kernel_initializer': {'class_name': 'GlorotNormal', 'config': {'seed': None}}, 'bias_initializer': {'class_name': 'Zeros', 'config': {}}, 'kernel_regularizer': None, 'bias_regularizer': None, 'activity_regularizer': None, 'kernel_constraint': None, 'bias_constraint': None} \n",
            "\n",
            "8   <keras.layers.core.dense.Dense object at 0x7f80d189db50>: \n",
            "{'name': 'dense_5', 'trainable': True, 'dtype': 'float32', 'units': 6, 'activation': 'sigmoid', 'use_bias': True, 'kernel_initializer': {'class_name': 'GlorotUniform', 'config': {'seed': None}}, 'bias_initializer': {'class_name': 'Zeros', 'config': {}}, 'kernel_regularizer': None, 'bias_regularizer': None, 'activity_regularizer': None, 'kernel_constraint': None, 'bias_constraint': None} \n",
            "\n"
          ]
        },
        {
          "output_type": "execute_result",
          "data": {
            "text/plain": [
              "{'amsgrad': False,\n",
              " 'beta_1': 0.8,\n",
              " 'beta_2': 0.999,\n",
              " 'decay': 0.0,\n",
              " 'epsilon': 1e-07,\n",
              " 'learning_rate': 0.00038,\n",
              " 'name': 'Adam'}"
            ]
          },
          "metadata": {},
          "execution_count": 11
        }
      ],
      "source": [
        "model=keras.models.load_model('_LSTM_LSTM_58.h5') \n",
        "model.summary()\n",
        "\n",
        "#to visualize activation functions\n",
        "for i, layer in enumerate (model.layers):\n",
        "    print (i, layer)\n",
        "    try:\n",
        "        print (\"    \",layer.activation)\n",
        "    except AttributeError:\n",
        "        print('   no activation attribute')\n",
        "#specific info about each layer\n",
        "for i in range(len(model.layers)):\n",
        "    print(f'{i}   {model.layers[i]}: \\n{model.layers[i].get_config()} \\n')\n",
        "#info about optimizers\n",
        "model.optimizer.get_config()        "
      ],
      "id": "Gv5T_YL0OW5G"
    }
  ],
  "metadata": {
    "colab": {
      "collapsed_sections": [],
      "name": "LSTM_LSTM.ipynb",
      "provenance": [],
      "include_colab_link": true
    },
    "kernelspec": {
      "display_name": "Python 3 (ipykernel)",
      "language": "python",
      "name": "python3"
    },
    "language_info": {
      "codemirror_mode": {
        "name": "ipython",
        "version": 3
      },
      "file_extension": ".py",
      "mimetype": "text/x-python",
      "name": "python",
      "nbconvert_exporter": "python",
      "pygments_lexer": "ipython3",
      "version": "3.9.6"
    }
  },
  "nbformat": 4,
  "nbformat_minor": 5
}