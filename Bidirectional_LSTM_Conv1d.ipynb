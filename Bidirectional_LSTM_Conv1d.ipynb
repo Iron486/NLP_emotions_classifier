{
  "cells": [
    {
      "cell_type": "markdown",
      "metadata": {
        "id": "view-in-github",
        "colab_type": "text"
      },
      "source": [
        "<a href=\"https://colab.research.google.com/github/Iron486/NLP_emotions_classifier/blob/main/Bidirectional_LSTM_Conv1d.ipynb\" target=\"_parent\"><img src=\"https://colab.research.google.com/assets/colab-badge.svg\" alt=\"Open In Colab\"/></a>"
      ]
    },
    {
      "cell_type": "markdown",
      "metadata": {
        "id": "KuMWoh4eXWWf"
      },
      "source": [
        "### <font color='violet'>Import libraries</font>"
      ],
      "id": "KuMWoh4eXWWf"
    },
    {
      "cell_type": "code",
      "execution_count": 1,
      "metadata": {
        "id": "0529e0da"
      },
      "outputs": [],
      "source": [
        "\n",
        "import os\n",
        "import numpy as np\n",
        "import pandas as pd\n",
        "import tensorflow as tf\n",
        "from tensorflow import keras\n",
        "from sklearn.preprocessing import OneHotEncoder\n",
        "from sklearn.preprocessing import StandardScaler\n",
        "from tensorflow.keras import layers\n",
        "from sklearn.decomposition import PCA\n",
        "import matplotlib.pyplot as plt\n",
        "import matplotlib.image as mpimg\n",
        "import seaborn as sns\n",
        "import statistics\n",
        "from numpy import array\n",
        "from numpy import asarray\n",
        "from numpy import zeros\n",
        "from keras.preprocessing.text import Tokenizer\n",
        "from keras.preprocessing.sequence import pad_sequences\n",
        "from sklearn.preprocessing import LabelEncoder\n",
        "from tensorflow.keras import layers\n",
        "import tensorflow as tf\n",
        "from tensorflow import keras"
      ],
      "id": "0529e0da"
    },
    {
      "cell_type": "markdown",
      "metadata": {
        "id": "TLrPmi0UXx_f"
      },
      "source": [
        "### <font color='violet'>Load the preprocessed GloVe embeddings</font>"
      ],
      "id": "TLrPmi0UXx_f"
    },
    {
      "cell_type": "code",
      "execution_count": 2,
      "metadata": {
        "colab": {
          "base_uri": "https://localhost:8080/"
        },
        "id": "zOBa6jO7QMXE",
        "outputId": "dd282c6b-a705-4549-cae9-b8ee6b77009b"
      },
      "outputs": [
        {
          "output_type": "stream",
          "name": "stdout",
          "text": [
            "Mounted at /content/drive\n"
          ]
        }
      ],
      "source": [
        "from google.colab import drive\n",
        "drive.mount('/content/drive')"
      ],
      "id": "zOBa6jO7QMXE"
    },
    {
      "cell_type": "code",
      "execution_count": 3,
      "metadata": {
        "id": "6mInfaBlDR_g"
      },
      "outputs": [],
      "source": [
        "import pickle\n",
        "filename = 'drive/My Drive/Colab Notebooks/NLP_emotions_dataset/Untitled Folder 1/emotions_dataset/embeddings_index.sav'\n",
        "embeddings_index = pickle.load(open(filename, 'rb'))"
      ],
      "id": "6mInfaBlDR_g"
    },
    {
      "cell_type": "markdown",
      "metadata": {
        "id": "O2S6U03yX5eN"
      },
      "source": [
        "### <font color='violet'>Import datasets and preprocess the datasets</font>"
      ],
      "id": "O2S6U03yX5eN"
    },
    {
      "cell_type": "code",
      "execution_count": 4,
      "metadata": {
        "id": "4710c931"
      },
      "outputs": [],
      "source": [
        "\n",
        "max_length = 58\n",
        "f = open('drive/My Drive/Colab Notebooks/NLP_emotions_dataset/Untitled Folder 1/emotions_dataset/train.txt')\n",
        "g=open('drive/My Drive/Colab Notebooks/NLP_emotions_dataset/Untitled Folder 1/emotions_dataset/val.txt')\n",
        "h=open('drive/My Drive/Colab Notebooks/NLP_emotions_dataset/Untitled Folder 1/emotions_dataset/test.txt')\n",
        "\n",
        "\n",
        "lb = LabelEncoder()\n",
        "t = Tokenizer()\n",
        "#def tokenizer_transform(words):\n",
        "    #t.fit_on_texts(words)    \n",
        "words_train =[]\n",
        "labels=[]\n",
        "for line in f:\n",
        "    values =line.rsplit(\";\", maxsplit=1)\n",
        "    sentence = values[0].split()\n",
        "    label=values[1]#removesuffix('\\n')\n",
        "    word = sentence[:-1]\n",
        "    words_train.append(word)\n",
        "    labels.append(label)\n",
        "f.close()  \n",
        "\n",
        "t.fit_on_texts(words_train)\n",
        "encoded_docs_train = t.texts_to_sequences(words_train)\n",
        "padded_docs_train = pad_sequences(encoded_docs_train, maxlen=max_length, padding='post')\n",
        "\n",
        "\n",
        "labels_train=lb.fit(labels)\n",
        "labels_train=lb.transform(labels)\n",
        "\n",
        "\n",
        "vocab_size = len(t.word_index) + 1\n",
        "embedding_matrix_train = zeros((vocab_size, 100))\n",
        "for word, i in t.word_index.items():\n",
        "    embedding_vector = embeddings_index.get(word)\n",
        "    if embedding_vector is not None:\n",
        "        embedding_matrix_train[i] = embedding_vector\n",
        "\n",
        "def Preprocessing(file,embeddings_index):\n",
        "    words =[]\n",
        "    labels=[]\n",
        "    for line in file:\n",
        "        values =line.rsplit(\";\", maxsplit=1)\n",
        "        sentence = values[0].split()\n",
        "        label=values[1]#.removesuffix('\\n')\n",
        "        word = sentence[:-1]\n",
        "        words.append(word)\n",
        "        labels.append(label)\n",
        "    file.close()  \n",
        "    # integer encode the documents\n",
        "    encoded_docs = t.texts_to_sequences(words)\n",
        "    #print(encoded_docs)\n",
        "    # pad documents to a max length of8 words\n",
        "    \n",
        "    padded_docs = pad_sequences(encoded_docs, maxlen=max_length, padding='post')\n",
        "    \n",
        "    labels=lb.transform(labels)\n",
        "    \n",
        "    embedding_matrix = zeros((vocab_size, 100))\n",
        "    for word, i in t.word_index.items():\n",
        "        embedding_vector = embeddings_index.get(word)\n",
        "        if embedding_vector is not None:\n",
        "            embedding_matrix[i] = embedding_vector\n",
        "\n",
        "    \n",
        "    \n",
        "    return padded_docs, encoded_docs, embedding_matrix,words,labels\n",
        "\n",
        "#padded_docs_train, encoded_docs_train,embedding_matrix_train,words_train,labels_train=Preprocessing(f,embeddings_index)\n",
        "padded_docs_val, encoded_docs_val,embedding_matrix_val,words_val,labels_val=Preprocessing(g,embeddings_index)\n",
        "padded_docs_test, encoded_docs_test,embedding_matrix_test,words_test,labels_test=Preprocessing(h,embeddings_index)"
      ],
      "id": "4710c931"
    },
    {
      "cell_type": "code",
      "execution_count": 5,
      "metadata": {
        "id": "390a50c5"
      },
      "outputs": [],
      "source": [
        "# embedding_matrix\n",
        "#t.word_index.items()\n",
        "#words"
      ],
      "id": "390a50c5"
    },
    {
      "cell_type": "code",
      "execution_count": 6,
      "metadata": {
        "colab": {
          "base_uri": "https://localhost:8080/"
        },
        "id": "7e7a60ff",
        "outputId": "dcfb7e83-f2f5-4867-dc82-33ad0f83cba7"
      },
      "outputs": [
        {
          "output_type": "execute_result",
          "data": {
            "text/plain": [
              "{'anger\\n', 'fear\\n', 'joy\\n', 'love\\n', 'sadness\\n', 'surprise\\n'}"
            ]
          },
          "metadata": {},
          "execution_count": 6
        }
      ],
      "source": [
        "len(padded_docs_train[3333])\n",
        "set(labels)"
      ],
      "id": "7e7a60ff"
    },
    {
      "cell_type": "markdown",
      "metadata": {
        "id": "qheaw4F0XEM3"
      },
      "source": [
        "### <font color='violet'>Train the model</font>"
      ],
      "id": "qheaw4F0XEM3"
    },
    {
      "cell_type": "code",
      "execution_count": 13,
      "metadata": {
        "colab": {
          "base_uri": "https://localhost:8080/"
        },
        "id": "a3lg-AWWeoeW",
        "outputId": "b6dcbbaf-615e-44f9-cc2b-b14040fd52a2"
      },
      "outputs": [
        {
          "output_type": "stream",
          "name": "stdout",
          "text": [
            "Model: \"sequential_5\"\n",
            "_________________________________________________________________\n",
            " Layer (type)                Output Shape              Param #   \n",
            "=================================================================\n",
            " embedding_5 (Embedding)     (None, 58, 100)           1418500   \n",
            "                                                                 \n",
            " bidirectional_4 (Bidirectio  (None, 58, 100)          60400     \n",
            " nal)                                                            \n",
            "                                                                 \n",
            " dropout_10 (Dropout)        (None, 58, 100)           0         \n",
            "                                                                 \n",
            " conv1d_1 (Conv1D)           (None, 53, 32)            19232     \n",
            "                                                                 \n",
            " max_pooling1d (MaxPooling1D  (None, 26, 32)           0         \n",
            " )                                                               \n",
            "                                                                 \n",
            " global_average_pooling1d (G  (None, 32)               0         \n",
            " lobalAveragePooling1D)                                          \n",
            "                                                                 \n",
            " dense_9 (Dense)             (None, 40)                1320      \n",
            "                                                                 \n",
            " dropout_11 (Dropout)        (None, 40)                0         \n",
            "                                                                 \n",
            " dense_10 (Dense)            (None, 17)                697       \n",
            "                                                                 \n",
            " dropout_12 (Dropout)        (None, 17)                0         \n",
            "                                                                 \n",
            " dense_11 (Dense)            (None, 6)                 108       \n",
            "                                                                 \n",
            "=================================================================\n",
            "Total params: 1,500,257\n",
            "Trainable params: 81,757\n",
            "Non-trainable params: 1,418,500\n",
            "_________________________________________________________________\n",
            "None\n",
            "Epoch 1/70\n",
            "667/667 [==============================] - 41s 56ms/step - loss: 1.4861 - accuracy: 0.4224 - val_loss: 1.3063 - val_accuracy: 0.5125\n",
            "Epoch 2/70\n",
            "667/667 [==============================] - 36s 54ms/step - loss: 1.2515 - accuracy: 0.5297 - val_loss: 1.1167 - val_accuracy: 0.5875\n",
            "Epoch 3/70\n",
            "667/667 [==============================] - 36s 54ms/step - loss: 1.0759 - accuracy: 0.5978 - val_loss: 0.9574 - val_accuracy: 0.6530\n",
            "Epoch 4/70\n",
            "667/667 [==============================] - 37s 55ms/step - loss: 0.9006 - accuracy: 0.6744 - val_loss: 0.8115 - val_accuracy: 0.7030\n",
            "Epoch 5/70\n",
            "667/667 [==============================] - 36s 55ms/step - loss: 0.7665 - accuracy: 0.7253 - val_loss: 0.7425 - val_accuracy: 0.7270\n",
            "Epoch 6/70\n",
            "667/667 [==============================] - 36s 55ms/step - loss: 0.6709 - accuracy: 0.7596 - val_loss: 0.6471 - val_accuracy: 0.7640\n",
            "Epoch 7/70\n",
            "667/667 [==============================] - 37s 55ms/step - loss: 0.6032 - accuracy: 0.7817 - val_loss: 0.6004 - val_accuracy: 0.7920\n",
            "Epoch 8/70\n",
            "667/667 [==============================] - 36s 54ms/step - loss: 0.5381 - accuracy: 0.8054 - val_loss: 0.5696 - val_accuracy: 0.7980\n",
            "Epoch 9/70\n",
            "667/667 [==============================] - 36s 54ms/step - loss: 0.5003 - accuracy: 0.8183 - val_loss: 0.5560 - val_accuracy: 0.7995\n",
            "Epoch 10/70\n",
            "667/667 [==============================] - 36s 55ms/step - loss: 0.4642 - accuracy: 0.8317 - val_loss: 0.5475 - val_accuracy: 0.8050\n",
            "Epoch 11/70\n",
            "667/667 [==============================] - 36s 54ms/step - loss: 0.4365 - accuracy: 0.8396 - val_loss: 0.5203 - val_accuracy: 0.8130\n",
            "Epoch 12/70\n",
            "667/667 [==============================] - 36s 54ms/step - loss: 0.4144 - accuracy: 0.8449 - val_loss: 0.5221 - val_accuracy: 0.8220\n",
            "Epoch 13/70\n",
            "667/667 [==============================] - 36s 54ms/step - loss: 0.3987 - accuracy: 0.8527 - val_loss: 0.5205 - val_accuracy: 0.8125\n",
            "Epoch 14/70\n",
            "667/667 [==============================] - 36s 55ms/step - loss: 0.3715 - accuracy: 0.8613 - val_loss: 0.5240 - val_accuracy: 0.8140\n",
            "Epoch 15/70\n",
            "667/667 [==============================] - 36s 55ms/step - loss: 0.3593 - accuracy: 0.8672 - val_loss: 0.5442 - val_accuracy: 0.8055\n",
            "Epoch 16/70\n",
            "667/667 [==============================] - 37s 55ms/step - loss: 0.3500 - accuracy: 0.8674 - val_loss: 0.5308 - val_accuracy: 0.8140\n",
            "Epoch 17/70\n",
            "667/667 [==============================] - 36s 55ms/step - loss: 0.3381 - accuracy: 0.8733 - val_loss: 0.5191 - val_accuracy: 0.8170\n",
            "Epoch 18/70\n",
            "667/667 [==============================] - 37s 55ms/step - loss: 0.3214 - accuracy: 0.8791 - val_loss: 0.5145 - val_accuracy: 0.8160\n",
            "Epoch 19/70\n",
            "667/667 [==============================] - 36s 54ms/step - loss: 0.3101 - accuracy: 0.8828 - val_loss: 0.5503 - val_accuracy: 0.8065\n",
            "Epoch 20/70\n",
            "667/667 [==============================] - 36s 55ms/step - loss: 0.2999 - accuracy: 0.8874 - val_loss: 0.5590 - val_accuracy: 0.8090\n",
            "Epoch 21/70\n",
            "667/667 [==============================] - 36s 54ms/step - loss: 0.2907 - accuracy: 0.8903 - val_loss: 0.5543 - val_accuracy: 0.8140\n",
            "Epoch 22/70\n",
            "667/667 [==============================] - 36s 54ms/step - loss: 0.2794 - accuracy: 0.8922 - val_loss: 0.5321 - val_accuracy: 0.8185\n",
            "Epoch 23/70\n",
            "667/667 [==============================] - 36s 54ms/step - loss: 0.2731 - accuracy: 0.8954 - val_loss: 0.6008 - val_accuracy: 0.8170\n",
            "Epoch 24/70\n",
            "667/667 [==============================] - 36s 54ms/step - loss: 0.2670 - accuracy: 0.8996 - val_loss: 0.6045 - val_accuracy: 0.8095\n",
            "63/63 [==============================] - 1s 16ms/step - loss: 0.5145 - accuracy: 0.8160\n",
            "Accuracy: 81.599998\n"
          ]
        }
      ],
      "source": [
        "tf.random.set_seed(79)\n",
        "# define model\n",
        "model = keras.Sequential()\n",
        "#(14185, 100) shape dimension\n",
        "model.add(keras.layers.Embedding(vocab_size, 100, weights=[embedding_matrix_train], input_length=max_length, trainable=False))\n",
        "model.add(tf.keras.layers.Bidirectional(tf.keras.layers.LSTM(50,input_shape=(embedding_matrix_train.shape[0],embedding_matrix_train.shape[1]),return_sequences=True)))\n",
        "model.add(keras.layers.Dropout(rate=0.1))\n",
        "#put return_sequences=True if you put the \n",
        "#LSTM layer before Conv1d or before another LSTM layer\n",
        "#model.add(keras.layers.Flatten()) #insert this to pass from MaxPooling to Fully connected neural network without GlobalAveragePooling1d\n",
        "#model.add(tf.keras.layers.GlobalAveragePooling1D()) \n",
        "model.add(tf.keras.layers.Conv1D(32, 6, activation='relu'))\n",
        "model.add(tf.keras.layers.MaxPooling1D(pool_size=2))\n",
        "model.add(tf.keras.layers.GlobalAveragePooling1D()) \n",
        "model.add(keras.layers.Dense(40,activation='elu'\n",
        "                  ,kernel_initializer='GlorotNormal'\n",
        "               #  ,kernel_regularizer=keras.regularizers.l2(0.02)\n",
        "                 ))\n",
        "model.add(keras.layers.Dropout(rate=0.1))\n",
        "\n",
        "model.add(keras.layers.Dense(17,activation='elu',kernel_initializer='GlorotNormal'\n",
        "                ))\n",
        "model.add(keras.layers.Dropout(rate=0.1))\n",
        "model.add(keras.layers.Dense(6,activation='sigmoid'))\n",
        "# compile the model\n",
        "opt = keras.optimizers.Adam(learning_rate=0.0004, beta_1=0.88,beta_2=0.999)\n",
        "model.compile(optimizer=opt, loss='sparse_categorical_crossentropy', metrics=['accuracy'])\n",
        "# summarize the model\n",
        "print(model.summary())\n",
        "# fit the model\n",
        "early_stopping_cb=keras.callbacks.EarlyStopping(patience=6,restore_best_weights=True)\n",
        "history=model.fit(padded_docs_train, labels_train, epochs=70,validation_data=(padded_docs_val, labels_val),callbacks=[early_stopping_cb],batch_size=24)\n",
        "# evaluate the model\n",
        "loss, accuracy = model.evaluate(padded_docs_val, labels_val)\n",
        "print('Accuracy: %f' % (accuracy*100))"
      ],
      "id": "a3lg-AWWeoeW"
    },
    {
      "cell_type": "markdown",
      "metadata": {
        "id": "iuMr1qvjYGwl"
      },
      "source": [
        "### <font color='violet'> History plot </font>"
      ],
      "id": "iuMr1qvjYGwl"
    },
    {
      "cell_type": "code",
      "execution_count": 14,
      "metadata": {
        "colab": {
          "base_uri": "https://localhost:8080/",
          "height": 324
        },
        "id": "eQmr4TAvOWcH",
        "outputId": "4cf1a268-1df8-47b0-f00c-bdc4c53e46d8"
      },
      "outputs": [
        {
          "output_type": "display_data",
          "data": {
            "text/plain": [
              "<Figure size 576x360 with 1 Axes>"
            ],
            "image/png": "[encoded data removed]"
          },
          "metadata": {
            "needs_background": "light"
          }
        }
      ],
      "source": [
        "pd.DataFrame(history.history).plot(figsize=(8, 5))\n",
        "plt.grid(True)\n",
        "#plt.gca().set_xlim(0,33)\n",
        "plt.gca().set_ylim(0,1)\n",
        "model.save('Conv1d_LSTM_bid_conv1d.h5')\n",
        "#Accuracy: 81.60"
      ],
      "id": "eQmr4TAvOWcH"
    },
    {
      "cell_type": "markdown",
      "metadata": {
        "id": "wx9sRqqxYKtN"
      },
      "source": [
        "### <font color='violet'>More details about the model</font>"
      ],
      "id": "wx9sRqqxYKtN"
    },
    {
      "cell_type": "code",
      "execution_count": 15,
      "metadata": {
        "colab": {
          "base_uri": "https://localhost:8080/"
        },
        "id": "Gv5T_YL0OW5G",
        "outputId": "06b571bb-ea0d-48fd-8168-b82cd216b05d"
      },
      "outputs": [
        {
          "output_type": "stream",
          "name": "stdout",
          "text": [
            "Model: \"sequential_5\"\n",
            "_________________________________________________________________\n",
            " Layer (type)                Output Shape              Param #   \n",
            "=================================================================\n",
            " embedding_5 (Embedding)     (None, 58, 100)           1418500   \n",
            "                                                                 \n",
            " bidirectional_4 (Bidirectio  (None, 58, 100)          60400     \n",
            " nal)                                                            \n",
            "                                                                 \n",
            " dropout_10 (Dropout)        (None, 58, 100)           0         \n",
            "                                                                 \n",
            " conv1d_1 (Conv1D)           (None, 53, 32)            19232     \n",
            "                                                                 \n",
            " max_pooling1d (MaxPooling1D  (None, 26, 32)           0         \n",
            " )                                                               \n",
            "                                                                 \n",
            " global_average_pooling1d (G  (None, 32)               0         \n",
            " lobalAveragePooling1D)                                          \n",
            "                                                                 \n",
            " dense_9 (Dense)             (None, 40)                1320      \n",
            "                                                                 \n",
            " dropout_11 (Dropout)        (None, 40)                0         \n",
            "                                                                 \n",
            " dense_10 (Dense)            (None, 17)                697       \n",
            "                                                                 \n",
            " dropout_12 (Dropout)        (None, 17)                0         \n",
            "                                                                 \n",
            " dense_11 (Dense)            (None, 6)                 108       \n",
            "                                                                 \n",
            "=================================================================\n",
            "Total params: 1,500,257\n",
            "Trainable params: 81,757\n",
            "Non-trainable params: 1,418,500\n",
            "_________________________________________________________________\n",
            "0 <keras.layers.embeddings.Embedding object at 0x7f1d704c5b50>\n",
            "   no activation attribute\n",
            "1 <keras.layers.wrappers.Bidirectional object at 0x7f1d6f63dc10>\n",
            "   no activation attribute\n",
            "2 <keras.layers.core.dropout.Dropout object at 0x7f1d70519dd0>\n",
            "   no activation attribute\n",
            "3 <keras.layers.convolutional.Conv1D object at 0x7f1d70868050>\n",
            "     <function relu at 0x7f1d7cc15320>\n",
            "4 <keras.layers.pooling.MaxPooling1D object at 0x7f1d70605ed0>\n",
            "   no activation attribute\n",
            "5 <keras.layers.pooling.GlobalAveragePooling1D object at 0x7f1d6fcbb990>\n",
            "   no activation attribute\n",
            "6 <keras.layers.core.dense.Dense object at 0x7f1d708dd210>\n",
            "     <function elu at 0x7f1d7cc14a70>\n",
            "7 <keras.layers.core.dropout.Dropout object at 0x7f1d70622410>\n",
            "   no activation attribute\n",
            "8 <keras.layers.core.dense.Dense object at 0x7f1d708d88d0>\n",
            "     <function elu at 0x7f1d7cc14a70>\n",
            "9 <keras.layers.core.dropout.Dropout object at 0x7f1d70738b50>\n",
            "   no activation attribute\n",
            "10 <keras.layers.core.dense.Dense object at 0x7f1d702af390>\n",
            "     <function sigmoid at 0x7f1d7cc15830>\n",
            "0   <keras.layers.embeddings.Embedding object at 0x7f1d704c5b50>: \n",
            "{'name': 'embedding_5', 'trainable': False, 'batch_input_shape': (None, 58), 'dtype': 'float32', 'input_dim': 14185, 'output_dim': 100, 'embeddings_initializer': {'class_name': 'RandomUniform', 'config': {'minval': -0.05, 'maxval': 0.05, 'seed': None}}, 'embeddings_regularizer': None, 'activity_regularizer': None, 'embeddings_constraint': None, 'mask_zero': False, 'input_length': 58} \n",
            "\n",
            "1   <keras.layers.wrappers.Bidirectional object at 0x7f1d6f63dc10>: \n",
            "{'name': 'bidirectional_4', 'trainable': True, 'dtype': 'float32', 'layer': {'class_name': 'LSTM', 'config': {'name': 'lstm_4', 'trainable': True, 'batch_input_shape': (None, 14185, 100), 'dtype': 'float32', 'return_sequences': True, 'return_state': False, 'go_backwards': False, 'stateful': False, 'unroll': False, 'time_major': False, 'units': 50, 'activation': 'tanh', 'recurrent_activation': 'sigmoid', 'use_bias': True, 'kernel_initializer': {'class_name': 'GlorotUniform', 'config': {'seed': None}}, 'recurrent_initializer': {'class_name': 'Orthogonal', 'config': {'gain': 1.0, 'seed': None}}, 'bias_initializer': {'class_name': 'Zeros', 'config': {}}, 'unit_forget_bias': True, 'kernel_regularizer': None, 'recurrent_regularizer': None, 'bias_regularizer': None, 'activity_regularizer': None, 'kernel_constraint': None, 'recurrent_constraint': None, 'bias_constraint': None, 'dropout': 0.0, 'recurrent_dropout': 0.0, 'implementation': 2}}, 'merge_mode': 'concat'} \n",
            "\n",
            "2   <keras.layers.core.dropout.Dropout object at 0x7f1d70519dd0>: \n",
            "{'name': 'dropout_10', 'trainable': True, 'dtype': 'float32', 'rate': 0.1, 'noise_shape': None, 'seed': None} \n",
            "\n",
            "3   <keras.layers.convolutional.Conv1D object at 0x7f1d70868050>: \n",
            "{'name': 'conv1d_1', 'trainable': True, 'dtype': 'float32', 'filters': 32, 'kernel_size': (6,), 'strides': (1,), 'padding': 'valid', 'data_format': 'channels_last', 'dilation_rate': (1,), 'groups': 1, 'activation': 'relu', 'use_bias': True, 'kernel_initializer': {'class_name': 'GlorotUniform', 'config': {'seed': None}}, 'bias_initializer': {'class_name': 'Zeros', 'config': {}}, 'kernel_regularizer': None, 'bias_regularizer': None, 'activity_regularizer': None, 'kernel_constraint': None, 'bias_constraint': None} \n",
            "\n",
            "4   <keras.layers.pooling.MaxPooling1D object at 0x7f1d70605ed0>: \n",
            "{'name': 'max_pooling1d', 'trainable': True, 'dtype': 'float32', 'strides': (2,), 'pool_size': (2,), 'padding': 'valid', 'data_format': 'channels_last'} \n",
            "\n",
            "5   <keras.layers.pooling.GlobalAveragePooling1D object at 0x7f1d6fcbb990>: \n",
            "{'name': 'global_average_pooling1d', 'trainable': True, 'dtype': 'float32', 'data_format': 'channels_last', 'keepdims': False} \n",
            "\n",
            "6   <keras.layers.core.dense.Dense object at 0x7f1d708dd210>: \n",
            "{'name': 'dense_9', 'trainable': True, 'dtype': 'float32', 'units': 40, 'activation': 'elu', 'use_bias': True, 'kernel_initializer': {'class_name': 'GlorotNormal', 'config': {'seed': None}}, 'bias_initializer': {'class_name': 'Zeros', 'config': {}}, 'kernel_regularizer': None, 'bias_regularizer': None, 'activity_regularizer': None, 'kernel_constraint': None, 'bias_constraint': None} \n",
            "\n",
            "7   <keras.layers.core.dropout.Dropout object at 0x7f1d70622410>: \n",
            "{'name': 'dropout_11', 'trainable': True, 'dtype': 'float32', 'rate': 0.1, 'noise_shape': None, 'seed': None} \n",
            "\n",
            "8   <keras.layers.core.dense.Dense object at 0x7f1d708d88d0>: \n",
            "{'name': 'dense_10', 'trainable': True, 'dtype': 'float32', 'units': 17, 'activation': 'elu', 'use_bias': True, 'kernel_initializer': {'class_name': 'GlorotNormal', 'config': {'seed': None}}, 'bias_initializer': {'class_name': 'Zeros', 'config': {}}, 'kernel_regularizer': None, 'bias_regularizer': None, 'activity_regularizer': None, 'kernel_constraint': None, 'bias_constraint': None} \n",
            "\n",
            "9   <keras.layers.core.dropout.Dropout object at 0x7f1d70738b50>: \n",
            "{'name': 'dropout_12', 'trainable': True, 'dtype': 'float32', 'rate': 0.1, 'noise_shape': None, 'seed': None} \n",
            "\n",
            "10   <keras.layers.core.dense.Dense object at 0x7f1d702af390>: \n",
            "{'name': 'dense_11', 'trainable': True, 'dtype': 'float32', 'units': 6, 'activation': 'sigmoid', 'use_bias': True, 'kernel_initializer': {'class_name': 'GlorotUniform', 'config': {'seed': None}}, 'bias_initializer': {'class_name': 'Zeros', 'config': {}}, 'kernel_regularizer': None, 'bias_regularizer': None, 'activity_regularizer': None, 'kernel_constraint': None, 'bias_constraint': None} \n",
            "\n"
          ]
        },
        {
          "output_type": "execute_result",
          "data": {
            "text/plain": [
              "{'amsgrad': False,\n",
              " 'beta_1': 0.88,\n",
              " 'beta_2': 0.999,\n",
              " 'decay': 0.0,\n",
              " 'epsilon': 1e-07,\n",
              " 'learning_rate': 0.0004,\n",
              " 'name': 'Adam'}"
            ]
          },
          "metadata": {},
          "execution_count": 15
        }
      ],
      "source": [
        "model=keras.models.load_model('Conv1d_LSTM_bid_conv1d.h5') \n",
        "model.summary()\n",
        "\n",
        "#to visualize activation functions\n",
        "for i, layer in enumerate (model.layers):\n",
        "    print (i, layer)\n",
        "    try:\n",
        "        print (\"    \",layer.activation)\n",
        "    except AttributeError:\n",
        "        print('   no activation attribute')\n",
        "#specific info about each layer\n",
        "for i in range(len(model.layers)):\n",
        "    print(f'{i}   {model.layers[i]}: \\n{model.layers[i].get_config()} \\n')\n",
        "#info about optimizers\n",
        "model.optimizer.get_config()        "
      ],
      "id": "Gv5T_YL0OW5G"
    }
  ],
  "metadata": {
    "colab": {
      "collapsed_sections": [],
      "name": "Bidirectional_LSTM_Conv1d.ipynb",
      "provenance": [],
      "include_colab_link": true
    },
    "kernelspec": {
      "display_name": "Python 3 (ipykernel)",
      "language": "python",
      "name": "python3"
    },
    "language_info": {
      "codemirror_mode": {
        "name": "ipython",
        "version": 3
      },
      "file_extension": ".py",
      "mimetype": "text/x-python",
      "name": "python",
      "nbconvert_exporter": "python",
      "pygments_lexer": "ipython3",
      "version": "3.9.6"
    }
  },
  "nbformat": 4,
  "nbformat_minor": 5
}