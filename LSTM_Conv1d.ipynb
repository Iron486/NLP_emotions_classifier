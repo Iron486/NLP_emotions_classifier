{
  "cells": [
    {
      "cell_type": "markdown",
      "metadata": {
        "id": "KuMWoh4eXWWf"
      },
      "source": [
        "### <font color='violet'>Import libraries</font>"
      ],
      "id": "KuMWoh4eXWWf"
    },
    {
      "cell_type": "code",
      "source": [
        ""
      ],
      "metadata": {
        "id": "GKva1PJKac5z"
      },
      "id": "GKva1PJKac5z",
      "execution_count": null,
      "outputs": []
    },
    {
      "cell_type": "code",
      "execution_count": null,
      "metadata": {
        "id": "0529e0da"
      },
      "outputs": [],
      "source": [
        "\n",
        "import os\n",
        "import numpy as np\n",
        "import pandas as pd\n",
        "import tensorflow as tf\n",
        "from tensorflow import keras\n",
        "from sklearn.preprocessing import OneHotEncoder\n",
        "from sklearn.preprocessing import StandardScaler\n",
        "from tensorflow.keras import layers\n",
        "from sklearn.decomposition import PCA\n",
        "import matplotlib.pyplot as plt\n",
        "import matplotlib.image as mpimg\n",
        "import seaborn as sns\n",
        "import statistics\n",
        "from numpy import array\n",
        "from numpy import asarray\n",
        "from numpy import zeros\n",
        "from keras.preprocessing.text import Tokenizer\n",
        "from keras.preprocessing.sequence import pad_sequences\n",
        "from sklearn.preprocessing import LabelEncoder\n",
        "from tensorflow.keras import layers\n",
        "import tensorflow as tf\n",
        "from tensorflow import keras"
      ],
      "id": "0529e0da"
    },
    {
      "cell_type": "markdown",
      "metadata": {
        "id": "TLrPmi0UXx_f"
      },
      "source": [
        "### <font color='violet'>Load the preprocessed GloVe embeddings</font>"
      ],
      "id": "TLrPmi0UXx_f"
    },
    {
      "cell_type": "code",
      "execution_count": null,
      "metadata": {
        "colab": {
          "base_uri": "https://localhost:8080/"
        },
        "id": "zOBa6jO7QMXE",
        "outputId": "1492374c-34ff-4e18-90f7-c87cba6f6709"
      },
      "outputs": [
        {
          "name": "stdout",
          "output_type": "stream",
          "text": [
            "Mounted at /content/drive\n"
          ]
        }
      ],
      "source": [
        "from google.colab import drive\n",
        "drive.mount('/content/drive')"
      ],
      "id": "zOBa6jO7QMXE"
    },
    {
      "cell_type": "code",
      "execution_count": null,
      "metadata": {
        "id": "6mInfaBlDR_g"
      },
      "outputs": [],
      "source": [
        "import pickle\n",
        "filename = 'drive/My Drive/Colab Notebooks/NLP_emotions_dataset/Untitled Folder 1/emotions_dataset/embeddings_index.sav'\n",
        "embeddings_index = pickle.load(open(filename, 'rb'))"
      ],
      "id": "6mInfaBlDR_g"
    },
    {
      "cell_type": "markdown",
      "metadata": {
        "id": "O2S6U03yX5eN"
      },
      "source": [
        "### <font color='violet'>Import datasets and preprocess the datasets</font>"
      ],
      "id": "O2S6U03yX5eN"
    },
    {
      "cell_type": "code",
      "execution_count": null,
      "metadata": {
        "id": "4710c931"
      },
      "outputs": [],
      "source": [
        "\n",
        "max_length = 58\n",
        "f = open('drive/My Drive/Colab Notebooks/NLP_emotions_dataset/Untitled Folder 1/emotions_dataset/train.txt')\n",
        "g=open('drive/My Drive/Colab Notebooks/NLP_emotions_dataset/Untitled Folder 1/emotions_dataset/val.txt')\n",
        "h=open('drive/My Drive/Colab Notebooks/NLP_emotions_dataset/Untitled Folder 1/emotions_dataset/test.txt')\n",
        "\n",
        "\n",
        "lb = LabelEncoder()\n",
        "t = Tokenizer()\n",
        "#def tokenizer_transform(words):\n",
        "    #t.fit_on_texts(words)    \n",
        "words_train =[]\n",
        "labels=[]\n",
        "for line in f:\n",
        "    values =line.rsplit(\";\", maxsplit=1)\n",
        "    sentence = values[0].split()\n",
        "    label=values[1]#removesuffix('\\n')\n",
        "    word = sentence[:-1]\n",
        "    words_train.append(word)\n",
        "    labels.append(label)\n",
        "f.close()  \n",
        "\n",
        "t.fit_on_texts(words_train)\n",
        "encoded_docs_train = t.texts_to_sequences(words_train)\n",
        "padded_docs_train = pad_sequences(encoded_docs_train, maxlen=max_length, padding='post')\n",
        "\n",
        "\n",
        "labels_train=lb.fit(labels)\n",
        "labels_train=lb.transform(labels)\n",
        "\n",
        "\n",
        "vocab_size = len(t.word_index) + 1\n",
        "embedding_matrix_train = zeros((vocab_size, 100))\n",
        "for word, i in t.word_index.items():\n",
        "    embedding_vector = embeddings_index.get(word)\n",
        "    if embedding_vector is not None:\n",
        "        embedding_matrix_train[i] = embedding_vector\n",
        "\n",
        "def Preprocessing(file,embeddings_index):\n",
        "    words =[]\n",
        "    labels=[]\n",
        "    for line in file:\n",
        "        values =line.rsplit(\";\", maxsplit=1)\n",
        "        sentence = values[0].split()\n",
        "        label=values[1]#.removesuffix('\\n')\n",
        "        word = sentence[:-1]\n",
        "        words.append(word)\n",
        "        labels.append(label)\n",
        "    file.close()  \n",
        "    # integer encode the documents\n",
        "    encoded_docs = t.texts_to_sequences(words)\n",
        "    #print(encoded_docs)\n",
        "    # pad documents to a max length of8 words\n",
        "    \n",
        "    padded_docs = pad_sequences(encoded_docs, maxlen=max_length, padding='post')\n",
        "    \n",
        "    labels=lb.transform(labels)\n",
        "    \n",
        "    embedding_matrix = zeros((vocab_size, 100))\n",
        "    for word, i in t.word_index.items():\n",
        "        embedding_vector = embeddings_index.get(word)\n",
        "        if embedding_vector is not None:\n",
        "            embedding_matrix[i] = embedding_vector\n",
        "\n",
        "    \n",
        "    \n",
        "    return padded_docs, encoded_docs, embedding_matrix,words,labels\n",
        "\n",
        "#padded_docs_train, encoded_docs_train,embedding_matrix_train,words_train,labels_train=Preprocessing(f,embeddings_index)\n",
        "padded_docs_val, encoded_docs_val,embedding_matrix_val,words_val,labels_val=Preprocessing(g,embeddings_index)\n",
        "padded_docs_test, encoded_docs_test,embedding_matrix_test,words_test,labels_test=Preprocessing(h,embeddings_index)"
      ],
      "id": "4710c931"
    },
    {
      "cell_type": "code",
      "execution_count": null,
      "metadata": {
        "id": "390a50c5"
      },
      "outputs": [],
      "source": [
        "# embedding_matrix\n",
        "#t.word_index.items()\n",
        "#words"
      ],
      "id": "390a50c5"
    },
    {
      "cell_type": "code",
      "execution_count": null,
      "metadata": {
        "colab": {
          "base_uri": "https://localhost:8080/"
        },
        "id": "7e7a60ff",
        "outputId": "16167dd7-ef35-40d2-c697-a4cfb53fdd2e"
      },
      "outputs": [
        {
          "data": {
            "text/plain": [
              "{'anger\\n', 'fear\\n', 'joy\\n', 'love\\n', 'sadness\\n', 'surprise\\n'}"
            ]
          },
          "execution_count": 6,
          "metadata": {},
          "output_type": "execute_result"
        }
      ],
      "source": [
        "len(padded_docs_train[3333])\n",
        "set(labels)"
      ],
      "id": "7e7a60ff"
    },
    {
      "cell_type": "markdown",
      "metadata": {
        "id": "qheaw4F0XEM3"
      },
      "source": [
        "### <font color='violet'>Train the model</font>"
      ],
      "id": "qheaw4F0XEM3"
    },
    {
      "cell_type": "code",
      "execution_count": null,
      "metadata": {
        "colab": {
          "background_save": true
        },
        "id": "8e3cdc07",
        "outputId": "219601f4-2d40-4429-9470-2649ee894780"
      },
      "outputs": [
        {
          "name": "stdout",
          "output_type": "stream",
          "text": [
            "Model: \"sequential_6\"\n",
            "_________________________________________________________________\n",
            " Layer (type)                Output Shape              Param #   \n",
            "=================================================================\n",
            " embedding_6 (Embedding)     (None, 58, 100)           1418500   \n",
            "                                                                 \n",
            " dropout_13 (Dropout)        (None, 58, 100)           0         \n",
            "                                                                 \n",
            " lstm_6 (LSTM)               (None, 58, 70)            47880     \n",
            "                                                                 \n",
            " conv1d_7 (Conv1D)           (None, 54, 64)            22464     \n",
            "                                                                 \n",
            " max_pooling1d_7 (MaxPooling  (None, 10, 64)           0         \n",
            " 1D)                                                             \n",
            "                                                                 \n",
            " global_average_pooling1d_6   (None, 64)               0         \n",
            " (GlobalAveragePooling1D)                                        \n",
            "                                                                 \n",
            " dropout_14 (Dropout)        (None, 64)                0         \n",
            "                                                                 \n",
            " dense_21 (Dense)            (None, 50)                3250      \n",
            "                                                                 \n",
            " dropout_15 (Dropout)        (None, 50)                0         \n",
            "                                                                 \n",
            " dense_22 (Dense)            (None, 20)                1020      \n",
            "                                                                 \n",
            " dense_23 (Dense)            (None, 6)                 126       \n",
            "                                                                 \n",
            "=================================================================\n",
            "Total params: 1,493,240\n",
            "Trainable params: 74,740\n",
            "Non-trainable params: 1,418,500\n",
            "_________________________________________________________________\n",
            "None\n",
            "Epoch 1/70\n",
            "800/800 [==============================] - 30s 35ms/step - loss: 1.4629 - accuracy: 0.4254 - val_loss: 1.2513 - val_accuracy: 0.5320\n",
            "Epoch 2/70\n",
            "800/800 [==============================] - 27s 34ms/step - loss: 1.1952 - accuracy: 0.5493 - val_loss: 1.0085 - val_accuracy: 0.6375\n",
            "Epoch 3/70\n",
            "800/800 [==============================] - 27s 34ms/step - loss: 0.9759 - accuracy: 0.6359 - val_loss: 0.8114 - val_accuracy: 0.7060\n",
            "Epoch 4/70\n",
            "800/800 [==============================] - 27s 34ms/step - loss: 0.8295 - accuracy: 0.6963 - val_loss: 0.7193 - val_accuracy: 0.7395\n",
            "Epoch 5/70\n",
            "800/800 [==============================] - 27s 34ms/step - loss: 0.7350 - accuracy: 0.7297 - val_loss: 0.6615 - val_accuracy: 0.7555\n",
            "Epoch 6/70\n",
            "800/800 [==============================] - 27s 34ms/step - loss: 0.6617 - accuracy: 0.7564 - val_loss: 0.5962 - val_accuracy: 0.7750\n",
            "Epoch 7/70\n",
            "800/800 [==============================] - 28s 35ms/step - loss: 0.6007 - accuracy: 0.7759 - val_loss: 0.5611 - val_accuracy: 0.7955\n",
            "Epoch 8/70\n",
            "800/800 [==============================] - 27s 34ms/step - loss: 0.5554 - accuracy: 0.7896 - val_loss: 0.5261 - val_accuracy: 0.8020\n",
            "Epoch 9/70\n",
            "800/800 [==============================] - 28s 35ms/step - loss: 0.5281 - accuracy: 0.8036 - val_loss: 0.5541 - val_accuracy: 0.7960\n",
            "Epoch 10/70\n",
            "800/800 [==============================] - 28s 34ms/step - loss: 0.4946 - accuracy: 0.8131 - val_loss: 0.4989 - val_accuracy: 0.8095\n",
            "Epoch 11/70\n",
            "800/800 [==============================] - 27s 34ms/step - loss: 0.4710 - accuracy: 0.8208 - val_loss: 0.4974 - val_accuracy: 0.8065\n",
            "Epoch 12/70\n",
            "800/800 [==============================] - 27s 34ms/step - loss: 0.4534 - accuracy: 0.8238 - val_loss: 0.4669 - val_accuracy: 0.8225\n",
            "Epoch 13/70\n",
            "800/800 [==============================] - 27s 34ms/step - loss: 0.4365 - accuracy: 0.8304 - val_loss: 0.4665 - val_accuracy: 0.8200\n",
            "Epoch 14/70\n",
            "800/800 [==============================] - 27s 34ms/step - loss: 0.4215 - accuracy: 0.8359 - val_loss: 0.4515 - val_accuracy: 0.8295\n",
            "Epoch 15/70\n",
            "800/800 [==============================] - 27s 34ms/step - loss: 0.4087 - accuracy: 0.8436 - val_loss: 0.4442 - val_accuracy: 0.8230\n",
            "Epoch 16/70\n",
            "800/800 [==============================] - 27s 33ms/step - loss: 0.3849 - accuracy: 0.8484 - val_loss: 0.4420 - val_accuracy: 0.8270\n",
            "Epoch 17/70\n",
            "800/800 [==============================] - 27s 33ms/step - loss: 0.3779 - accuracy: 0.8498 - val_loss: 0.4447 - val_accuracy: 0.8320\n",
            "Epoch 18/70\n",
            "800/800 [==============================] - 27s 34ms/step - loss: 0.3718 - accuracy: 0.8556 - val_loss: 0.4272 - val_accuracy: 0.8380\n",
            "Epoch 19/70\n",
            "800/800 [==============================] - 27s 34ms/step - loss: 0.3601 - accuracy: 0.8584 - val_loss: 0.4308 - val_accuracy: 0.8345\n",
            "Epoch 20/70\n",
            "800/800 [==============================] - 27s 34ms/step - loss: 0.3541 - accuracy: 0.8619 - val_loss: 0.4309 - val_accuracy: 0.8350\n",
            "Epoch 21/70\n",
            "800/800 [==============================] - 27s 34ms/step - loss: 0.3435 - accuracy: 0.8644 - val_loss: 0.4228 - val_accuracy: 0.8310\n",
            "Epoch 22/70\n",
            "800/800 [==============================] - 27s 34ms/step - loss: 0.3358 - accuracy: 0.8666 - val_loss: 0.4299 - val_accuracy: 0.8335\n",
            "Epoch 23/70\n",
            "800/800 [==============================] - 27s 34ms/step - loss: 0.3310 - accuracy: 0.8674 - val_loss: 0.4301 - val_accuracy: 0.8350\n",
            "Epoch 24/70\n",
            "800/800 [==============================] - 27s 34ms/step - loss: 0.3232 - accuracy: 0.8731 - val_loss: 0.4266 - val_accuracy: 0.8280\n",
            "Epoch 25/70\n",
            "800/800 [==============================] - 27s 34ms/step - loss: 0.3184 - accuracy: 0.8739 - val_loss: 0.4229 - val_accuracy: 0.8340\n",
            "Epoch 26/70\n",
            "800/800 [==============================] - 27s 34ms/step - loss: 0.3120 - accuracy: 0.8773 - val_loss: 0.4515 - val_accuracy: 0.8350\n",
            "Epoch 27/70\n",
            "800/800 [==============================] - 27s 34ms/step - loss: 0.3049 - accuracy: 0.8788 - val_loss: 0.4238 - val_accuracy: 0.8345\n",
            "Epoch 28/70\n",
            "800/800 [==============================] - 27s 34ms/step - loss: 0.2965 - accuracy: 0.8823 - val_loss: 0.4250 - val_accuracy: 0.8385\n",
            "63/63 [==============================] - 1s 15ms/step - loss: 0.4228 - accuracy: 0.8310\n",
            "Accuracy: 83.099997\n"
          ]
        }
      ],
      "source": [
        "\n",
        "tf.random.set_seed(79)\n",
        "opt = keras.optimizers.Adam(learning_rate=0.0004, beta_1=0.9,beta_2=0.999)\n",
        "# define model\n",
        "model = keras.Sequential()\n",
        "#(14185, 100) shape dimension\n",
        "model.add(keras.layers.Embedding(vocab_size, 100, weights=[embedding_matrix_train], input_length=max_length, trainable=False))\n",
        "#model.add(keras.layers.Flatten())\n",
        "\n",
        "#model.add(tf.keras.layers.Conv1D(32, 2, activation='relu'))\n",
        "#model.add(tf.keras.layers.MaxPooling1D(pool_size=2))\n",
        "#model.add(tf.keras.layers.Conv1D(64, 2, activation='relu'))\n",
        "#model.add(tf.keras.layers.MaxPooling1D(pool_size=1))\n",
        "#model.add(tf.keras.layers.GlobalAveragePooling1D()) #put this if after the conv1d you have a dense layer\n",
        "#tf.expand_dims(embedding_matrix_train.shape,axis=1)\n",
        "model.add(keras.layers.Dropout(rate=0.1))\n",
        "model.add(tf.keras.layers.LSTM(70,input_shape=(embedding_matrix_train.shape[0],embedding_matrix_train.shape[1]),return_sequences=True))\n",
        "#put return_sequences=True if you put the \n",
        "#LSTM layer before Conv1d or before another LSTM layer\n",
        "#model.add(keras.layers.Flatten()) #insert this to pass from MaxPooling to Fully connected neural network without GlobalAveragePooling1d\n",
        "\n",
        "#model.add(tf.keras.layers.Conv1D(32, 6, activation='relu'))\n",
        "#model.add(tf.keras.layers.MaxPooling1D(pool_size=2))\n",
        "model.add(tf.keras.layers.Conv1D(64, 5, activation='relu'))\n",
        "model.add(tf.keras.layers.MaxPooling1D(pool_size=5))\n",
        "model.add(tf.keras.layers.GlobalAveragePooling1D())\n",
        "#tf.expand_dims(embedding_matrix_train.shape,axis=1)#np.expand_dims(embedding_matrix_train,axis=1)\n",
        "#model.add(keras.layers.Flatten())\n",
        "\n",
        "                     # keras.layers.Dense(3000,activation='elu'\n",
        "                  #,kernel_initializer='glorot_normal'\n",
        "                 #,kernel_regularizer=keras.regularizers.l2(0.1)\n",
        "                # ),\n",
        "#keras.layers.BatchNormalization(),\n",
        "model.add(keras.layers.Dropout(rate=0.1))\n",
        "model.add(keras.layers.Dense(50,activation='elu'\n",
        "                  ,kernel_initializer='GlorotNormal'\n",
        "               #  ,kernel_regularizer=keras.regularizers.l2(0.02)\n",
        "                 ))\n",
        "#model.add(keras.layers.Dropout(rate=0.1))\n",
        "#keras.layers.BatchNormalization(),\n",
        "#model.add(keras.layers.Dense(40,activation='elu'\n",
        "                #  ,kernel_initializer='GlorotNormal'\n",
        "               #  ,kernel_regularizer=keras.regularizers.l2(0.02)\n",
        "               #  ))\n",
        "model.add(keras.layers.Dropout(rate=0.1))\n",
        "#keras.layers.BatchNormalization(),\n",
        "model.add(keras.layers.Dense(20,activation='elu',kernel_initializer='GlorotNormal'\n",
        "#  ,kernel_regularizer=keras.regularizers.l2(0.02)\n",
        "                ))\n",
        "model.add(keras.layers.Dense(6,activation='sigmoid'))\n",
        "# compile the model\n",
        "opt = keras.optimizers.Adam(learning_rate=0.00038, beta_1=0.8,beta_2=0.999)\n",
        "model.compile(optimizer=opt, loss='sparse_categorical_crossentropy', metrics=['accuracy'])\n",
        "# summarize the model\n",
        "print(model.summary())\n",
        "# fit the model\n",
        "early_stopping_cb=keras.callbacks.EarlyStopping(patience=7,restore_best_weights=True)\n",
        "history=model.fit(padded_docs_train, labels_train, epochs=70,validation_data=(padded_docs_val, labels_val),callbacks=[early_stopping_cb],batch_size=20)\n",
        "# evaluate the model\n",
        "loss, accuracy = model.evaluate(padded_docs_val, labels_val)\n",
        "print('Accuracy: %f' % (accuracy*100))"
      ],
      "id": "8e3cdc07"
    },
    {
      "cell_type": "code",
      "execution_count": null,
      "metadata": {
        "colab": {
          "base_uri": "https://localhost:8080/"
        },
        "id": "a3lg-AWWeoeW",
        "outputId": "5adf07f6-7a84-42c1-d1ee-9e315a43e162"
      },
      "outputs": [
        {
          "name": "stdout",
          "output_type": "stream",
          "text": [
            "Model: \"sequential_3\"\n",
            "_________________________________________________________________\n",
            " Layer (type)                Output Shape              Param #   \n",
            "=================================================================\n",
            " embedding_3 (Embedding)     (None, 58, 100)           1418500   \n",
            "                                                                 \n",
            " dropout_4 (Dropout)         (None, 58, 100)           0         \n",
            "                                                                 \n",
            " lstm_3 (LSTM)               (None, 58, 60)            38640     \n",
            "                                                                 \n",
            " conv1d_4 (Conv1D)           (None, 56, 64)            11584     \n",
            "                                                                 \n",
            " max_pooling1d_4 (MaxPooling  (None, 28, 64)           0         \n",
            " 1D)                                                             \n",
            "                                                                 \n",
            " global_average_pooling1d_3   (None, 64)               0         \n",
            " (GlobalAveragePooling1D)                                        \n",
            "                                                                 \n",
            " dropout_5 (Dropout)         (None, 64)                0         \n",
            "                                                                 \n",
            " dense_12 (Dense)            (None, 60)                3900      \n",
            "                                                                 \n",
            " dropout_6 (Dropout)         (None, 60)                0         \n",
            "                                                                 \n",
            " dense_13 (Dense)            (None, 20)                1220      \n",
            "                                                                 \n",
            " dense_14 (Dense)            (None, 6)                 126       \n",
            "                                                                 \n",
            "=================================================================\n",
            "Total params: 1,473,970\n",
            "Trainable params: 55,470\n",
            "Non-trainable params: 1,418,500\n",
            "_________________________________________________________________\n",
            "None\n",
            "Epoch 1/70\n",
            "800/800 [==============================] - 31s 35ms/step - loss: 1.4801 - accuracy: 0.4225 - val_loss: 1.2918 - val_accuracy: 0.5115\n",
            "Epoch 2/70\n",
            "800/800 [==============================] - 29s 36ms/step - loss: 1.2577 - accuracy: 0.5251 - val_loss: 1.1119 - val_accuracy: 0.5795\n",
            "Epoch 3/70\n",
            "800/800 [==============================] - 28s 35ms/step - loss: 1.0979 - accuracy: 0.5829 - val_loss: 0.9377 - val_accuracy: 0.6580\n",
            "Epoch 4/70\n",
            "800/800 [==============================] - 28s 35ms/step - loss: 0.9248 - accuracy: 0.6608 - val_loss: 0.7837 - val_accuracy: 0.7095\n",
            "Epoch 5/70\n",
            "800/800 [==============================] - 28s 35ms/step - loss: 0.8020 - accuracy: 0.7044 - val_loss: 0.7282 - val_accuracy: 0.7350\n",
            "Epoch 6/70\n",
            "800/800 [==============================] - 27s 34ms/step - loss: 0.7213 - accuracy: 0.7297 - val_loss: 0.6615 - val_accuracy: 0.7530\n",
            "Epoch 7/70\n",
            "800/800 [==============================] - 27s 34ms/step - loss: 0.6520 - accuracy: 0.7567 - val_loss: 0.5953 - val_accuracy: 0.7780\n",
            "Epoch 8/70\n",
            "800/800 [==============================] - 27s 34ms/step - loss: 0.5931 - accuracy: 0.7791 - val_loss: 0.5511 - val_accuracy: 0.7950\n",
            "Epoch 9/70\n",
            "800/800 [==============================] - 27s 34ms/step - loss: 0.5746 - accuracy: 0.7857 - val_loss: 0.5664 - val_accuracy: 0.7865\n",
            "Epoch 10/70\n",
            "800/800 [==============================] - 27s 34ms/step - loss: 0.5323 - accuracy: 0.7987 - val_loss: 0.5192 - val_accuracy: 0.8115\n",
            "Epoch 11/70\n",
            "800/800 [==============================] - 27s 34ms/step - loss: 0.5118 - accuracy: 0.8091 - val_loss: 0.4953 - val_accuracy: 0.8125\n",
            "Epoch 12/70\n",
            "800/800 [==============================] - 27s 34ms/step - loss: 0.4887 - accuracy: 0.8139 - val_loss: 0.4776 - val_accuracy: 0.8195\n",
            "Epoch 13/70\n",
            "800/800 [==============================] - 31s 38ms/step - loss: 0.4721 - accuracy: 0.8196 - val_loss: 0.4948 - val_accuracy: 0.8145\n",
            "Epoch 14/70\n",
            "800/800 [==============================] - 27s 34ms/step - loss: 0.4537 - accuracy: 0.8271 - val_loss: 0.4673 - val_accuracy: 0.8245\n",
            "Epoch 15/70\n",
            "800/800 [==============================] - 27s 34ms/step - loss: 0.4408 - accuracy: 0.8307 - val_loss: 0.4623 - val_accuracy: 0.8220\n",
            "Epoch 16/70\n",
            "800/800 [==============================] - 28s 35ms/step - loss: 0.4262 - accuracy: 0.8378 - val_loss: 0.4673 - val_accuracy: 0.8235\n",
            "Epoch 17/70\n",
            "800/800 [==============================] - 27s 34ms/step - loss: 0.4178 - accuracy: 0.8414 - val_loss: 0.4771 - val_accuracy: 0.8190\n",
            "Epoch 18/70\n",
            "800/800 [==============================] - 27s 34ms/step - loss: 0.4067 - accuracy: 0.8453 - val_loss: 0.4335 - val_accuracy: 0.8320\n",
            "Epoch 19/70\n",
            "800/800 [==============================] - 27s 34ms/step - loss: 0.4010 - accuracy: 0.8460 - val_loss: 0.4376 - val_accuracy: 0.8285\n",
            "Epoch 20/70\n",
            "800/800 [==============================] - 27s 34ms/step - loss: 0.3987 - accuracy: 0.8446 - val_loss: 0.4374 - val_accuracy: 0.8310\n",
            "Epoch 21/70\n",
            "800/800 [==============================] - 28s 35ms/step - loss: 0.3790 - accuracy: 0.8511 - val_loss: 0.4367 - val_accuracy: 0.8300\n",
            "Epoch 22/70\n",
            "800/800 [==============================] - 27s 34ms/step - loss: 0.3735 - accuracy: 0.8561 - val_loss: 0.4263 - val_accuracy: 0.8295\n",
            "Epoch 23/70\n",
            "800/800 [==============================] - 27s 34ms/step - loss: 0.3662 - accuracy: 0.8559 - val_loss: 0.4379 - val_accuracy: 0.8320\n",
            "Epoch 24/70\n",
            "800/800 [==============================] - 28s 34ms/step - loss: 0.3591 - accuracy: 0.8595 - val_loss: 0.4313 - val_accuracy: 0.8290\n",
            "Epoch 25/70\n",
            "800/800 [==============================] - 27s 34ms/step - loss: 0.3572 - accuracy: 0.8604 - val_loss: 0.4157 - val_accuracy: 0.8390\n",
            "Epoch 26/70\n",
            "800/800 [==============================] - 27s 34ms/step - loss: 0.3510 - accuracy: 0.8602 - val_loss: 0.4556 - val_accuracy: 0.8330\n",
            "Epoch 27/70\n",
            "800/800 [==============================] - 27s 34ms/step - loss: 0.3440 - accuracy: 0.8647 - val_loss: 0.4352 - val_accuracy: 0.8345\n",
            "Epoch 28/70\n",
            "800/800 [==============================] - 27s 34ms/step - loss: 0.3418 - accuracy: 0.8658 - val_loss: 0.4280 - val_accuracy: 0.8390\n",
            "Epoch 29/70\n",
            "800/800 [==============================] - 27s 34ms/step - loss: 0.3325 - accuracy: 0.8689 - val_loss: 0.4346 - val_accuracy: 0.8305\n",
            "Epoch 30/70\n",
            "800/800 [==============================] - 27s 34ms/step - loss: 0.3311 - accuracy: 0.8716 - val_loss: 0.4164 - val_accuracy: 0.8385\n",
            "Epoch 31/70\n",
            "800/800 [==============================] - 27s 34ms/step - loss: 0.3265 - accuracy: 0.8711 - val_loss: 0.4241 - val_accuracy: 0.8380\n",
            "63/63 [==============================] - 2s 16ms/step - loss: 0.4157 - accuracy: 0.8390\n",
            "Accuracy: 83.899999\n"
          ]
        }
      ],
      "source": [
        "tf.random.set_seed(79)\n",
        "opt = keras.optimizers.Adam(learning_rate=0.0005, beta_1=0.8,beta_2=0.999)\n",
        "# define model\n",
        "model = keras.Sequential()\n",
        "#(14185, 100) shape dimension\n",
        "model.add(keras.layers.Embedding(vocab_size, 100, weights=[embedding_matrix_train], input_length=max_length, trainable=False))\n",
        "#model.add(keras.layers.Flatten())\n",
        "\n",
        "#model.add(tf.keras.layers.Conv1D(32, 2, activation='relu'))\n",
        "#model.add(tf.keras.layers.MaxPooling1D(pool_size=2))\n",
        "#model.add(tf.keras.layers.Conv1D(64, 2, activation='relu'))\n",
        "#model.add(tf.keras.layers.MaxPooling1D(pool_size=1))\n",
        "#model.add(tf.keras.layers.GlobalAveragePooling1D()) #put this if after the conv1d you have a dense layer\n",
        "#tf.expand_dims(embedding_matrix_train.shape,axis=1)\n",
        "model.add(keras.layers.Dropout(rate=0.1))\n",
        "model.add(tf.keras.layers.LSTM(60,input_shape=(embedding_matrix_train.shape[0],embedding_matrix_train.shape[1]),return_sequences=True))\n",
        "#put return_sequences=True if you put the \n",
        "#LSTM layer before Conv1d or before another LSTM layer\n",
        "#model.add(keras.layers.Flatten()) #insert this to pass from MaxPooling to Fully connected neural network without GlobalAveragePooling1d\n",
        "\n",
        "#model.add(tf.keras.layers.Conv1D(32, 6, activation='relu'))\n",
        "#model.add(tf.keras.layers.MaxPooling1D(pool_size=2))\n",
        "model.add(tf.keras.layers.Conv1D(64, 3, activation='relu'))\n",
        "model.add(tf.keras.layers.MaxPooling1D(pool_size=2))\n",
        "model.add(tf.keras.layers.GlobalAveragePooling1D())\n",
        "#tf.expand_dims(embedding_matrix_train.shape,axis=1)#np.expand_dims(embedding_matrix_train,axis=1)\n",
        "#model.add(keras.layers.Flatten())\n",
        "\n",
        "                     # keras.layers.Dense(3000,activation='elu'\n",
        "                  #,kernel_initializer='glorot_normal'\n",
        "                 #,kernel_regularizer=keras.regularizers.l2(0.1)\n",
        "                # ),\n",
        "#keras.layers.BatchNormalization(),\n",
        "model.add(keras.layers.Dropout(rate=0.1))\n",
        "model.add(keras.layers.Dense(60,activation='elu'\n",
        "                  ,kernel_initializer='GlorotNormal'\n",
        "               #  ,kernel_regularizer=keras.regularizers.l2(0.02)\n",
        "                 ))\n",
        "#model.add(keras.layers.Dropout(rate=0.1))\n",
        "#keras.layers.BatchNormalization(),\n",
        "#model.add(keras.layers.Dense(40,activation='elu'\n",
        "           #       ,kernel_initializer='GlorotNormal'\n",
        "               #  ,kernel_regularizer=keras.regularizers.l2(0.02)\n",
        "               #  ))\n",
        "model.add(keras.layers.Dropout(rate=0.1))\n",
        "#keras.layers.BatchNormalization(),\n",
        "model.add(keras.layers.Dense(20,activation='elu',kernel_initializer='GlorotNormal'\n",
        "#  ,kernel_regularizer=keras.regularizers.l2(0.02)\n",
        "                ))\n",
        "model.add(keras.layers.Dense(6,activation='sigmoid'))\n",
        "# compile the model\n",
        "opt = keras.optimizers.Adam(learning_rate=0.00038, beta_1=0.8,beta_2=0.999)\n",
        "model.compile(optimizer=opt, loss='sparse_categorical_crossentropy', metrics=['accuracy'])\n",
        "# summarize the model\n",
        "print(model.summary())\n",
        "# fit the model\n",
        "early_stopping_cb=keras.callbacks.EarlyStopping(patience=6,restore_best_weights=True)\n",
        "history=model.fit(padded_docs_train, labels_train, epochs=70,validation_data=(padded_docs_val, labels_val),callbacks=[early_stopping_cb],batch_size=20)\n",
        "# evaluate the model\n",
        "loss, accuracy = model.evaluate(padded_docs_val, labels_val)\n",
        "print('Accuracy: %f' % (accuracy*100))"
      ],
      "id": "a3lg-AWWeoeW"
    },
    {
      "cell_type": "markdown",
      "metadata": {
        "id": "iuMr1qvjYGwl"
      },
      "source": [
        "### <font color='violet'> History plot </font>"
      ],
      "id": "iuMr1qvjYGwl"
    },
    {
      "cell_type": "code",
      "execution_count": null,
      "metadata": {
        "colab": {
          "base_uri": "https://localhost:8080/",
          "height": 324
        },
        "id": "eQmr4TAvOWcH",
        "outputId": "ffc1cdce-0b44-48c2-e15b-c0e7826569b2"
      },
      "outputs": [
        {
          "data": {
            "image/png": "[encoded data removed]",
            "text/plain": [
              "<Figure size 576x360 with 1 Axes>"
            ]
          },
          "metadata": {},
          "output_type": "display_data"
        }
      ],
      "source": [
        "pd.DataFrame(history.history).plot(figsize=(8, 5))\n",
        "plt.grid(True)\n",
        "#plt.gca().set_xlim(0,33)\n",
        "plt.gca().set_ylim(0,1)\n",
        "model.save('Conv1d_LSTM_58_3.h5')\n",
        "#Accuracy: 0.839"
      ],
      "id": "eQmr4TAvOWcH"
    },
    {
      "cell_type": "markdown",
      "metadata": {
        "id": "wx9sRqqxYKtN"
      },
      "source": [
        "### <font color='violet'>More details about the model</font>"
      ],
      "id": "wx9sRqqxYKtN"
    },
    {
      "cell_type": "code",
      "execution_count": null,
      "metadata": {
        "colab": {
          "base_uri": "https://localhost:8080/"
        },
        "id": "Gv5T_YL0OW5G",
        "outputId": "b3b91976-e41c-497d-d43f-5d6b1177d4e5"
      },
      "outputs": [
        {
          "name": "stdout",
          "output_type": "stream",
          "text": [
            "Model: \"sequential_3\"\n",
            "_________________________________________________________________\n",
            " Layer (type)                Output Shape              Param #   \n",
            "=================================================================\n",
            " embedding_3 (Embedding)     (None, 58, 100)           1418500   \n",
            "                                                                 \n",
            " dropout_4 (Dropout)         (None, 58, 100)           0         \n",
            "                                                                 \n",
            " lstm_3 (LSTM)               (None, 58, 60)            38640     \n",
            "                                                                 \n",
            " conv1d_4 (Conv1D)           (None, 56, 64)            11584     \n",
            "                                                                 \n",
            " max_pooling1d_4 (MaxPooling  (None, 28, 64)           0         \n",
            " 1D)                                                             \n",
            "                                                                 \n",
            " global_average_pooling1d_3   (None, 64)               0         \n",
            " (GlobalAveragePooling1D)                                        \n",
            "                                                                 \n",
            " dropout_5 (Dropout)         (None, 64)                0         \n",
            "                                                                 \n",
            " dense_12 (Dense)            (None, 60)                3900      \n",
            "                                                                 \n",
            " dropout_6 (Dropout)         (None, 60)                0         \n",
            "                                                                 \n",
            " dense_13 (Dense)            (None, 20)                1220      \n",
            "                                                                 \n",
            " dense_14 (Dense)            (None, 6)                 126       \n",
            "                                                                 \n",
            "=================================================================\n",
            "Total params: 1,473,970\n",
            "Trainable params: 55,470\n",
            "Non-trainable params: 1,418,500\n",
            "_________________________________________________________________\n",
            "0 <keras.layers.embeddings.Embedding object at 0x7f801d28c790>\n",
            "   no activation attribute\n",
            "1 <keras.layers.core.dropout.Dropout object at 0x7f801d28c550>\n",
            "   no activation attribute\n",
            "2 <keras.layers.recurrent_v2.LSTM object at 0x7f801d29bf10>\n",
            "     <function tanh at 0x7f802a8ed290>\n",
            "3 <keras.layers.convolutional.Conv1D object at 0x7f801d2a98d0>\n",
            "     <function relu at 0x7f802a8e8ef0>\n",
            "4 <keras.layers.pooling.MaxPooling1D object at 0x7f801d2b7e90>\n",
            "   no activation attribute\n",
            "5 <keras.layers.pooling.GlobalAveragePooling1D object at 0x7f801d112a90>\n",
            "   no activation attribute\n",
            "6 <keras.layers.core.dropout.Dropout object at 0x7f801d1fd590>\n",
            "   no activation attribute\n",
            "7 <keras.layers.core.dense.Dense object at 0x7f801d2a5090>\n",
            "     <function elu at 0x7f802a8e8680>\n",
            "8 <keras.layers.core.dropout.Dropout object at 0x7f801d296490>\n",
            "   no activation attribute\n",
            "9 <keras.layers.core.dense.Dense object at 0x7f801dd05850>\n",
            "     <function elu at 0x7f802a8e8680>\n",
            "10 <keras.layers.core.dense.Dense object at 0x7f801d126f90>\n",
            "     <function sigmoid at 0x7f802a8ed440>\n",
            "0   <keras.layers.embeddings.Embedding object at 0x7f801d28c790>: \n",
            "{'name': 'embedding_3', 'trainable': False, 'batch_input_shape': (None, 58), 'dtype': 'float32', 'input_dim': 14185, 'output_dim': 100, 'embeddings_initializer': {'class_name': 'RandomUniform', 'config': {'minval': -0.05, 'maxval': 0.05, 'seed': None}}, 'embeddings_regularizer': None, 'activity_regularizer': None, 'embeddings_constraint': None, 'mask_zero': False, 'input_length': 58} \n",
            "\n",
            "1   <keras.layers.core.dropout.Dropout object at 0x7f801d28c550>: \n",
            "{'name': 'dropout_4', 'trainable': True, 'dtype': 'float32', 'rate': 0.1, 'noise_shape': None, 'seed': None} \n",
            "\n",
            "2   <keras.layers.recurrent_v2.LSTM object at 0x7f801d29bf10>: \n",
            "{'name': 'lstm_3', 'trainable': True, 'batch_input_shape': (None, 14185, 100), 'dtype': 'float32', 'return_sequences': True, 'return_state': False, 'go_backwards': False, 'stateful': False, 'unroll': False, 'time_major': False, 'units': 60, 'activation': 'tanh', 'recurrent_activation': 'sigmoid', 'use_bias': True, 'kernel_initializer': {'class_name': 'GlorotUniform', 'config': {'seed': None}}, 'recurrent_initializer': {'class_name': 'Orthogonal', 'config': {'gain': 1.0, 'seed': None}}, 'bias_initializer': {'class_name': 'Zeros', 'config': {}}, 'unit_forget_bias': True, 'kernel_regularizer': None, 'recurrent_regularizer': None, 'bias_regularizer': None, 'activity_regularizer': None, 'kernel_constraint': None, 'recurrent_constraint': None, 'bias_constraint': None, 'dropout': 0.0, 'recurrent_dropout': 0.0, 'implementation': 2} \n",
            "\n",
            "3   <keras.layers.convolutional.Conv1D object at 0x7f801d2a98d0>: \n",
            "{'name': 'conv1d_4', 'trainable': True, 'dtype': 'float32', 'filters': 64, 'kernel_size': (3,), 'strides': (1,), 'padding': 'valid', 'data_format': 'channels_last', 'dilation_rate': (1,), 'groups': 1, 'activation': 'relu', 'use_bias': True, 'kernel_initializer': {'class_name': 'GlorotUniform', 'config': {'seed': None}}, 'bias_initializer': {'class_name': 'Zeros', 'config': {}}, 'kernel_regularizer': None, 'bias_regularizer': None, 'activity_regularizer': None, 'kernel_constraint': None, 'bias_constraint': None} \n",
            "\n",
            "4   <keras.layers.pooling.MaxPooling1D object at 0x7f801d2b7e90>: \n",
            "{'name': 'max_pooling1d_4', 'trainable': True, 'dtype': 'float32', 'strides': (2,), 'pool_size': (2,), 'padding': 'valid', 'data_format': 'channels_last'} \n",
            "\n",
            "5   <keras.layers.pooling.GlobalAveragePooling1D object at 0x7f801d112a90>: \n",
            "{'name': 'global_average_pooling1d_3', 'trainable': True, 'dtype': 'float32', 'data_format': 'channels_last', 'keepdims': False} \n",
            "\n",
            "6   <keras.layers.core.dropout.Dropout object at 0x7f801d1fd590>: \n",
            "{'name': 'dropout_5', 'trainable': True, 'dtype': 'float32', 'rate': 0.1, 'noise_shape': None, 'seed': None} \n",
            "\n",
            "7   <keras.layers.core.dense.Dense object at 0x7f801d2a5090>: \n",
            "{'name': 'dense_12', 'trainable': True, 'dtype': 'float32', 'units': 60, 'activation': 'elu', 'use_bias': True, 'kernel_initializer': {'class_name': 'GlorotNormal', 'config': {'seed': None}}, 'bias_initializer': {'class_name': 'Zeros', 'config': {}}, 'kernel_regularizer': None, 'bias_regularizer': None, 'activity_regularizer': None, 'kernel_constraint': None, 'bias_constraint': None} \n",
            "\n",
            "8   <keras.layers.core.dropout.Dropout object at 0x7f801d296490>: \n",
            "{'name': 'dropout_6', 'trainable': True, 'dtype': 'float32', 'rate': 0.1, 'noise_shape': None, 'seed': None} \n",
            "\n",
            "9   <keras.layers.core.dense.Dense object at 0x7f801dd05850>: \n",
            "{'name': 'dense_13', 'trainable': True, 'dtype': 'float32', 'units': 20, 'activation': 'elu', 'use_bias': True, 'kernel_initializer': {'class_name': 'GlorotNormal', 'config': {'seed': None}}, 'bias_initializer': {'class_name': 'Zeros', 'config': {}}, 'kernel_regularizer': None, 'bias_regularizer': None, 'activity_regularizer': None, 'kernel_constraint': None, 'bias_constraint': None} \n",
            "\n",
            "10   <keras.layers.core.dense.Dense object at 0x7f801d126f90>: \n",
            "{'name': 'dense_14', 'trainable': True, 'dtype': 'float32', 'units': 6, 'activation': 'sigmoid', 'use_bias': True, 'kernel_initializer': {'class_name': 'GlorotUniform', 'config': {'seed': None}}, 'bias_initializer': {'class_name': 'Zeros', 'config': {}}, 'kernel_regularizer': None, 'bias_regularizer': None, 'activity_regularizer': None, 'kernel_constraint': None, 'bias_constraint': None} \n",
            "\n"
          ]
        },
        {
          "data": {
            "text/plain": [
              "{'amsgrad': False,\n",
              " 'beta_1': 0.8,\n",
              " 'beta_2': 0.999,\n",
              " 'decay': 0.0,\n",
              " 'epsilon': 1e-07,\n",
              " 'learning_rate': 0.00038,\n",
              " 'name': 'Adam'}"
            ]
          },
          "execution_count": 18,
          "metadata": {},
          "output_type": "execute_result"
        }
      ],
      "source": [
        "model=keras.models.load_model('Conv1d_LSTM_58_3.h5') \n",
        "model.summary()\n",
        "\n",
        "#to visualize activation functions\n",
        "for i, layer in enumerate (model.layers):\n",
        "    print (i, layer)\n",
        "    try:\n",
        "        print (\"    \",layer.activation)\n",
        "    except AttributeError:\n",
        "        print('   no activation attribute')\n",
        "#specific info about each layer\n",
        "for i in range(len(model.layers)):\n",
        "    print(f'{i}   {model.layers[i]}: \\n{model.layers[i].get_config()} \\n')\n",
        "#info about optimizers\n",
        "model.optimizer.get_config()        "
      ],
      "id": "Gv5T_YL0OW5G"
    }
  ],
  "metadata": {
    "colab": {
      "collapsed_sections": [],
      "name": "LSTM_Conv1d.ipynb",
      "provenance": []
    },
    "kernelspec": {
      "display_name": "Python 3 (ipykernel)",
      "language": "python",
      "name": "python3"
    },
    "language_info": {
      "codemirror_mode": {
        "name": "ipython",
        "version": 3
      },
      "file_extension": ".py",
      "mimetype": "text/x-python",
      "name": "python",
      "nbconvert_exporter": "python",
      "pygments_lexer": "ipython3",
      "version": "3.9.6"
    }
  },
  "nbformat": 4,
  "nbformat_minor": 5
}